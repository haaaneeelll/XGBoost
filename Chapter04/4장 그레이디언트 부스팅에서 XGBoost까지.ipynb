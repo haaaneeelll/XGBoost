{
 "cells": [
  {
   "cell_type": "markdown",
   "id": "88d94bce",
   "metadata": {},
   "source": [
    "- XGBoost는 5장에서 설명할 몇 가지 확실한 장점이 있는 독특한 형태의 그레이디언트 부스팅 구현이다.\n",
    "- 일반적인 그레이디언트 부스팅에 비해 XGBoost의 장점을 이해하려면 먼저 기존 그레이디언트 부스팅의 작동 방식을 알아야 한다.\n",
    "- 기존 그레이디언트 부스팅의 구조와 매개변수는 XGBoost에서도 제공한다. 이 장에서 XGBoost의 핵심인 강력한 그레이디언트 부스팅에 대해 알아보겠다.\n",
    "- 기존 그레이디언트 부스팅의 구조와 매개변수는 XGBoost에서도 제공한다. 이 장에서 XGBoost의 핵심인 강력한 그레이디언트 부스팅 대해 알아보겠다.\n",
    "- 이장에서 그레이디언트 부스팅 모델을 만들고 이전 결과와 비교해보겠다.\n",
    "- 특히 **학습률** 매개변수에 초점을 맞추어 XGBoost와 같은 강력한 그레이디언트 부스팅 모델을 만들어보겠다.\n",
    "- 마지막으로 빠른 알고리즘이 필요한 외계 행성 데이터셋 문제를 다루어보겠다. 속도는 빅 데이터 세계에서 핵심적인 요구사항이며 XGBoost는 이를 만족했다.\n",
    "\n",
    "-----\n",
    "# 이 장 구성\n",
    "\n",
    "- 배깅에서 부스팅까지\n",
    "- 그레이디언트 부스팅 작동 방식\n",
    "- 그레이디언트 부스팅 매개변수 튜닝\n",
    "- 빅 데이터 다루기 - 그레이디언트 부스팅 vs XGBoost"
   ]
  },
  {
   "cell_type": "markdown",
   "id": "94887552",
   "metadata": {},
   "source": [
    "# 4.1 배깅에서 부스팅까지\n",
    "- 3장에서 랜덤 포레스트 같은 앙상블 머신러닝 알고리즘이 많은 모델을 하나로 연결하여 더 나은 예측을 만드는 이유를 배웠다.\n",
    "- **랜덤 포레스트**는 (결정 트리에서) 부트스트랩 샘플을 사용하기 때문에 배깅 알고리즘으로 분류된다.\n",
    "----\n",
    "- 이와 달리 **부스팅은 개별 트리의 실수로부터 학습한다. 이전 트리의 오차를 기반으로 새로운 트리를 훈련하는 것이 기본적인 아이디어다.**\n",
    "- 부스팅에서 새로운 트리에 대한 **오차를 수정**하는 것은 배깅과 다른 접근 방법이다. 배깅 모델에서는 새로운 트리가 이전 트리에 주의를 기울이지 않다. 또한 **새로운 트리는 부트스트래핑을 사용해 처음부터 훈련되며 최종 모델은 모든 개별 트리의 결과를 합친다.하지만 부스팅에서는 개별 트리가 이전 트리를 기반으로 만들어진다.** 독립적으로 트리가 동작하지 않으며 **다른 트리 위에 만들어진다.**"
   ]
  },
  {
   "cell_type": "markdown",
   "id": "4dcaba42",
   "metadata": {},
   "source": [
    "## 4.1.1 에이다부스트 소개\n",
    "- 에이다부스트는 인기 있는 초기 부스팅 모델 중 하나이다.\n",
    "- 에디아부스트에서는 새로운 트리가 이전 트리의 오차를 기반으로 가중치를 조정한다.\n",
    "- 오류 샘플의 가중치를 높여 잘못된 예측에 더 많은 주의를 기울인다.\n",
    "- 에이다부스트는 이렇게 실수에서 학습하기 때문에 약한학습기를 강력한 학습기로 만들 수 있다. \n",
    "- 약한 학습기는 우연보다 조금 나은 성능을 내는 머신러닝 모델을 말한다.\n",
    "- 강한 학습기는 많은 양의 데이터에서 학습하여 매우 잘 수행되는 모델이다.\n",
    "----\n",
    "\n",
    "- 약한 학습기를 강력한 학습기로 변환하는 것이 부스팅 알고리즘의 일반적인 아이디어이다.\n",
    "- 약한 학습기는 무작위 예측보다 조금 낫다. 하지만 약한 학습기로 시작하는 데는 목적이 있다.\n",
    "- **일반적으로 부스팅은 강력한 기반 모델을 만드는 것이 아니라 반복적으로 오류를 고치는 데 초점을 맞춘다.**\n",
    "- 기반 모델이 너무 강력하면 학습 과정이 제한되어 부스팅 모델의 전략을 약화시킨다.\n",
    "\n",
    "- 수백 번의 반복을 통해 약한 학습기가 강력한 학습기로 바뀐다. 즉, 작은 성능 개선을 오래 지속한다.\n",
    "- 사실 부스팅은 지난 수십년 동안 최적의 결과를 만드는 점에서 가장 뛰어난 머신러닝 전략 중 하나이다.\n",
    "---\n",
    "- 에이다부스트의 강력한 대안인 그레이디언트 부스팅으로 넘어가겠다."
   ]
  },
  {
   "cell_type": "markdown",
   "id": "dff0c0ec",
   "metadata": {},
   "source": [
    "# 4.1.2 그레이디언트 부스팅의 특징\n",
    "- 그레이디언트 부스팅은 에이다부스트와 다른 전략을 사용한다.\n",
    "- 그레이디언트 부스팅도 잘못된 예측을 기반으로 조정되지만 한 단계 더 나아간다.\n",
    "- **그레이디언트 부스팅은 이전 트리의 예측 오차를 기반으로 완전히 새로운 트리를 훈련한다.**\n",
    "- 즉, 그레이디언트 부스팅은 각 트리의 실수를 살펴보고 이런 실수에 대한 **완전한 새로운 트리를 만든다.**\n",
    "- 새로운 트리는 올바르게 예측된 값에는 영향을 받지 않는다.\n",
    "\n",
    "---\n",
    "- 오차에만 초점을 맞추는 머신러닝 알고리즘을 만들려면 정확한 최종 예측을 만들기 위해 오차를 계산하는 방법이 필요하다.\n",
    "- 이런 방법은 모델의 예측과 실제 값 사이의 차이인 잔차를 활용한다. 일방적인 방법은 다음과 같다.\n",
    "\n",
    "- 그레이디언트 부스팅은 각 트리 예측 값을 더해 모델 평가에 사용한다.\n",
    "- 이 아이디어는 그레이디언트 부스팅의 고급 버전인 XGBoost의 핵심이므로 트리의 예측을 계산하고 더하는 것을 이해하는 것이 중요하다. 그레이디언트 부스팅 모델을 직접 만들어보면 예측을 계산하고 더하는 과정을 잘 볼 수 있다.\n",
    "- 다음 절에서 직접 그레이디언트 부스팅 모델을 만들어보겠다. 먼저 그레이디언트 부스팅의 작동방식에 대해 배워보겠다.\n",
    "\n",
    "---\n",
    "요약하면 AdaBoost와 Gradient Boosting은 모두 약한 학습자를 강력한 학습자로 결합하는 부스팅 알고리즘이지만 샘플에 가중치를 부여하는 접근 방식과 훈련 중에 앙상블을 업데이트하는 방법이 다릅니다. 보다 유연하고 강력한 Gradient Boosting은 종종 선호되며 광범위한 작업에서 더 나은 성능을 제공하는 경향이 있습니다.\n",
    "\n",
    "AdaBoost와 달리 Gradient Boosting은 데이터 포인트 가중치에 중점을 두지 않습니다. 대신, 각각의 새로운 약한 학습자를 잔차(실제 목표 값과 기존 앙상블에 의한 예측 간의 차이)에 맞춥니다.\n",
    "각 약한 학습자는 이전의 약한 학습자가 만든 오류를 줄여서 모델을 개선하려고 합니다."
   ]
  },
  {
   "attachments": {
    "image.png": {
     "image/png": "[encoded data removed]"
    }
   },
   "cell_type": "markdown",
   "id": "77ff50d3",
   "metadata": {},
   "source": [
    "## 4.2. 그레이디언트 부스팅 작동 방식\n",
    "- 그레이디언트 부스팅의 작동 방식을 살펴보고 이전 트리의 오차에 새로운 트리를 훈련하는 식으로 그레이디언트 부스팅 모델을 직접 만들어보자.\n",
    "- 여기서 수학적인 핵심 요소는 **잔차**이다. \n",
    "\n",
    "## 4.2.1 잔차\n",
    "- 잔차는 타깃과 모델의 예측 사이의 차이다. \n",
    "- 통계학에서는 일반적으로 선형 회귀 모델이 데이터에 얼마나 잘 맞는지 평가하기 위해 잔차를 사용한다.\n",
    "\n",
    ">다음과 같은 예를 생각해보자.\n",
    "1. 자전거 대여\n",
    "a)예측: 759\n",
    "b)타깃: 799\n",
    "c)잔차: 799-759 = 40\n",
    "\n",
    "2. 소득\n",
    "a)예측: 100,000\n",
    "b)타깃: 88,000\n",
    "c)잔차\" 88,000 - 100,000 = -12,000\n",
    "\n",
    "여기서 보듯이 잔차는 모델 예측이 정답에서 얼마나 떨어져 있는지 알려주며 양수 또는 음수일 수 있다.\n",
    "\n",
    "#### 선형회귀의 잔차\n",
    "![image.png](attachment:image.png)\n",
    "- 선형 회귀의 목적은 잔차의 제곱을 최소화하는 것이다. \n",
    "- 그림에 나와 있듯이 잔차는 선형 회귀 직선이 데이터에 얼마나 잘 맞는지 보여준다.\n",
    "- 통계학에서 종종 데이터에 대한 통찰을 얻기 위해 잔차를 그래프로 시각화하여 선형 회귀 분석을 수행한다.\n",
    "\n",
    "그레이디언트 부스팅 알고리즘을 직접 구현해보기 위해 각 트리의 잔차를 계산하고 이 잔차에 새로운 모델을 훈련해보겠다."
   ]
  },
  {
   "cell_type": "markdown",
   "id": "c74b4805",
   "metadata": {},
   "source": [
    "## 4.2.2 그레이디언트 부스팅 모델 구축 방법 배우기\n",
    "- 그레이디언트 부스팅 모델을 직접 만들어보면 그레이디언트 부스팅의 작동방식을 잘 이해할 수 있다.\n",
    "- 모델을 만들기 전에 데이터를 준비하고 모델에 주입할 수 있도록 나누자."
   ]
  },
  {
   "cell_type": "code",
   "execution_count": 1,
   "id": "10a481f8",
   "metadata": {},
   "outputs": [],
   "source": [
    "import pandas as pd\n",
    "import numpy as np\n",
    "import warnings\n",
    "warnings.filterwarnings('ignore')\n",
    "import xgboost as xgb\n",
    "xgb.set_config(verbosity = 0)\n",
    "\n",
    "# verbosity=0: verbosity 매개변수는 XGBoost 훈련 프로세스 중에 인쇄되는 정보의 양을 제어하는데 사용됩니다.\n",
    "# 값 0은 추가 정보(오류 제외)가 인쇄되지 않음을 의미합니다.\n",
    "# 1 이상으로 설정하면 진행률 및 성능 메트릭을 포함하여 교육 프로세스에 대한 자세한 정보가 인쇄됩니다.\n",
    "# 상세도를 0으로 설정하면 추가 정보의 인쇄를 억제하여 오류 메시지를 제외하고는 아무 출력 없이 교육 프로세스를 자동으로 만듭니다.\n",
    "# 이는 특히 대규모 실험을 실행하거나 과도한 출력이 필요하지 않은 프로덕션 환경에서 출력을 복잡하게 만들지 않으려는 경우에 유용할 수 있습니다."
   ]
  },
  {
   "cell_type": "code",
   "execution_count": 2,
   "id": "72d2e4b8",
   "metadata": {},
   "outputs": [
    {
     "data": {
      "text/html": [
       "<div>\n",
       "<style scoped>\n",
       "    .dataframe tbody tr th:only-of-type {\n",
       "        vertical-align: middle;\n",
       "    }\n",
       "\n",
       "    .dataframe tbody tr th {\n",
       "        vertical-align: top;\n",
       "    }\n",
       "\n",
       "    .dataframe thead th {\n",
       "        text-align: right;\n",
       "    }\n",
       "</style>\n",
       "<table border=\"1\" class=\"dataframe\">\n",
       "  <thead>\n",
       "    <tr style=\"text-align: right;\">\n",
       "      <th></th>\n",
       "      <th>instant</th>\n",
       "      <th>season</th>\n",
       "      <th>yr</th>\n",
       "      <th>mnth</th>\n",
       "      <th>holiday</th>\n",
       "      <th>weekday</th>\n",
       "      <th>workingday</th>\n",
       "      <th>weathersit</th>\n",
       "      <th>temp</th>\n",
       "      <th>atemp</th>\n",
       "      <th>hum</th>\n",
       "      <th>windspeed</th>\n",
       "      <th>cnt</th>\n",
       "    </tr>\n",
       "  </thead>\n",
       "  <tbody>\n",
       "    <tr>\n",
       "      <th>0</th>\n",
       "      <td>1</td>\n",
       "      <td>1.0</td>\n",
       "      <td>0.0</td>\n",
       "      <td>1.0</td>\n",
       "      <td>0.0</td>\n",
       "      <td>6.0</td>\n",
       "      <td>0.0</td>\n",
       "      <td>2</td>\n",
       "      <td>0.344167</td>\n",
       "      <td>0.363625</td>\n",
       "      <td>0.805833</td>\n",
       "      <td>0.160446</td>\n",
       "      <td>985</td>\n",
       "    </tr>\n",
       "    <tr>\n",
       "      <th>1</th>\n",
       "      <td>2</td>\n",
       "      <td>1.0</td>\n",
       "      <td>0.0</td>\n",
       "      <td>1.0</td>\n",
       "      <td>0.0</td>\n",
       "      <td>0.0</td>\n",
       "      <td>0.0</td>\n",
       "      <td>2</td>\n",
       "      <td>0.363478</td>\n",
       "      <td>0.353739</td>\n",
       "      <td>0.696087</td>\n",
       "      <td>0.248539</td>\n",
       "      <td>801</td>\n",
       "    </tr>\n",
       "    <tr>\n",
       "      <th>2</th>\n",
       "      <td>3</td>\n",
       "      <td>1.0</td>\n",
       "      <td>0.0</td>\n",
       "      <td>1.0</td>\n",
       "      <td>0.0</td>\n",
       "      <td>1.0</td>\n",
       "      <td>1.0</td>\n",
       "      <td>1</td>\n",
       "      <td>0.196364</td>\n",
       "      <td>0.189405</td>\n",
       "      <td>0.437273</td>\n",
       "      <td>0.248309</td>\n",
       "      <td>1349</td>\n",
       "    </tr>\n",
       "    <tr>\n",
       "      <th>3</th>\n",
       "      <td>4</td>\n",
       "      <td>1.0</td>\n",
       "      <td>0.0</td>\n",
       "      <td>1.0</td>\n",
       "      <td>0.0</td>\n",
       "      <td>2.0</td>\n",
       "      <td>1.0</td>\n",
       "      <td>1</td>\n",
       "      <td>0.200000</td>\n",
       "      <td>0.212122</td>\n",
       "      <td>0.590435</td>\n",
       "      <td>0.160296</td>\n",
       "      <td>1562</td>\n",
       "    </tr>\n",
       "    <tr>\n",
       "      <th>4</th>\n",
       "      <td>5</td>\n",
       "      <td>1.0</td>\n",
       "      <td>0.0</td>\n",
       "      <td>1.0</td>\n",
       "      <td>0.0</td>\n",
       "      <td>3.0</td>\n",
       "      <td>1.0</td>\n",
       "      <td>1</td>\n",
       "      <td>0.226957</td>\n",
       "      <td>0.229270</td>\n",
       "      <td>0.436957</td>\n",
       "      <td>0.186900</td>\n",
       "      <td>1600</td>\n",
       "    </tr>\n",
       "    <tr>\n",
       "      <th>...</th>\n",
       "      <td>...</td>\n",
       "      <td>...</td>\n",
       "      <td>...</td>\n",
       "      <td>...</td>\n",
       "      <td>...</td>\n",
       "      <td>...</td>\n",
       "      <td>...</td>\n",
       "      <td>...</td>\n",
       "      <td>...</td>\n",
       "      <td>...</td>\n",
       "      <td>...</td>\n",
       "      <td>...</td>\n",
       "      <td>...</td>\n",
       "    </tr>\n",
       "    <tr>\n",
       "      <th>726</th>\n",
       "      <td>727</td>\n",
       "      <td>1.0</td>\n",
       "      <td>1.0</td>\n",
       "      <td>12.0</td>\n",
       "      <td>0.0</td>\n",
       "      <td>4.0</td>\n",
       "      <td>1.0</td>\n",
       "      <td>2</td>\n",
       "      <td>0.254167</td>\n",
       "      <td>0.226642</td>\n",
       "      <td>0.652917</td>\n",
       "      <td>0.350133</td>\n",
       "      <td>2114</td>\n",
       "    </tr>\n",
       "    <tr>\n",
       "      <th>727</th>\n",
       "      <td>728</td>\n",
       "      <td>1.0</td>\n",
       "      <td>1.0</td>\n",
       "      <td>12.0</td>\n",
       "      <td>0.0</td>\n",
       "      <td>5.0</td>\n",
       "      <td>1.0</td>\n",
       "      <td>2</td>\n",
       "      <td>0.253333</td>\n",
       "      <td>0.255046</td>\n",
       "      <td>0.590000</td>\n",
       "      <td>0.155471</td>\n",
       "      <td>3095</td>\n",
       "    </tr>\n",
       "    <tr>\n",
       "      <th>728</th>\n",
       "      <td>729</td>\n",
       "      <td>1.0</td>\n",
       "      <td>1.0</td>\n",
       "      <td>12.0</td>\n",
       "      <td>0.0</td>\n",
       "      <td>6.0</td>\n",
       "      <td>0.0</td>\n",
       "      <td>2</td>\n",
       "      <td>0.253333</td>\n",
       "      <td>0.242400</td>\n",
       "      <td>0.752917</td>\n",
       "      <td>0.124383</td>\n",
       "      <td>1341</td>\n",
       "    </tr>\n",
       "    <tr>\n",
       "      <th>729</th>\n",
       "      <td>730</td>\n",
       "      <td>1.0</td>\n",
       "      <td>1.0</td>\n",
       "      <td>12.0</td>\n",
       "      <td>0.0</td>\n",
       "      <td>0.0</td>\n",
       "      <td>0.0</td>\n",
       "      <td>1</td>\n",
       "      <td>0.255833</td>\n",
       "      <td>0.231700</td>\n",
       "      <td>0.483333</td>\n",
       "      <td>0.350754</td>\n",
       "      <td>1796</td>\n",
       "    </tr>\n",
       "    <tr>\n",
       "      <th>730</th>\n",
       "      <td>731</td>\n",
       "      <td>1.0</td>\n",
       "      <td>1.0</td>\n",
       "      <td>12.0</td>\n",
       "      <td>0.0</td>\n",
       "      <td>1.0</td>\n",
       "      <td>0.0</td>\n",
       "      <td>2</td>\n",
       "      <td>0.215833</td>\n",
       "      <td>0.223487</td>\n",
       "      <td>0.577500</td>\n",
       "      <td>0.154846</td>\n",
       "      <td>2729</td>\n",
       "    </tr>\n",
       "  </tbody>\n",
       "</table>\n",
       "<p>731 rows × 13 columns</p>\n",
       "</div>"
      ],
      "text/plain": [
       "     instant  season   yr  mnth  holiday  weekday  workingday  weathersit  \\\n",
       "0          1     1.0  0.0   1.0      0.0      6.0         0.0           2   \n",
       "1          2     1.0  0.0   1.0      0.0      0.0         0.0           2   \n",
       "2          3     1.0  0.0   1.0      0.0      1.0         1.0           1   \n",
       "3          4     1.0  0.0   1.0      0.0      2.0         1.0           1   \n",
       "4          5     1.0  0.0   1.0      0.0      3.0         1.0           1   \n",
       "..       ...     ...  ...   ...      ...      ...         ...         ...   \n",
       "726      727     1.0  1.0  12.0      0.0      4.0         1.0           2   \n",
       "727      728     1.0  1.0  12.0      0.0      5.0         1.0           2   \n",
       "728      729     1.0  1.0  12.0      0.0      6.0         0.0           2   \n",
       "729      730     1.0  1.0  12.0      0.0      0.0         0.0           1   \n",
       "730      731     1.0  1.0  12.0      0.0      1.0         0.0           2   \n",
       "\n",
       "         temp     atemp       hum  windspeed   cnt  \n",
       "0    0.344167  0.363625  0.805833   0.160446   985  \n",
       "1    0.363478  0.353739  0.696087   0.248539   801  \n",
       "2    0.196364  0.189405  0.437273   0.248309  1349  \n",
       "3    0.200000  0.212122  0.590435   0.160296  1562  \n",
       "4    0.226957  0.229270  0.436957   0.186900  1600  \n",
       "..        ...       ...       ...        ...   ...  \n",
       "726  0.254167  0.226642  0.652917   0.350133  2114  \n",
       "727  0.253333  0.255046  0.590000   0.155471  3095  \n",
       "728  0.253333  0.242400  0.752917   0.124383  1341  \n",
       "729  0.255833  0.231700  0.483333   0.350754  1796  \n",
       "730  0.215833  0.223487  0.577500   0.154846  2729  \n",
       "\n",
       "[731 rows x 13 columns]"
      ]
     },
     "execution_count": 2,
     "metadata": {},
     "output_type": "execute_result"
    }
   ],
   "source": [
    "df_bikes = pd.read_csv('bike_rentals_cleaned.csv')\n",
    "df_bikes"
   ]
  },
  {
   "cell_type": "code",
   "execution_count": 3,
   "id": "2b083680",
   "metadata": {},
   "outputs": [],
   "source": [
    "x_bikes = df_bikes.iloc[:,:-1]\n",
    "y_bikes = df_bikes.iloc[:,-1]\n",
    "\n",
    "from sklearn.model_selection import train_test_split\n",
    "x_train, x_test, y_train, y_test = train_test_split(x_bikes, y_bikes, random_state= 2)"
   ]
  },
  {
   "cell_type": "markdown",
   "id": "a1d465a5",
   "metadata": {},
   "source": [
    "## 4.2.3 그레이디언트 부스팅 모델 배우기\n",
    "- 그레이디언트 부스팅 모델을 만드는 과정은 다음과 같다.\n",
    "\n",
    "-------\n",
    "1-1. 결정트리를 훈련한다. max_depth가 1인 결정 트리 스텀프를 사용하거나 Max_depth가 2나 3인 결정 트리를 사용할 수 있다.\n",
    "\n",
    "1-2. 기본학습기라 부르는 결정 트리는 높은 정확도를 위해 튜닝하지 않는다.\n",
    "\n",
    "1-3. 기본 학습기에 크게 의존하는 모델이 아니라 오차에서 학습하는 모델을 원하기 때문이다. \n",
    "\n",
    "#### 1-4. 앙상블의 첫번째 트리인 tree_1을 max_depth=2로 결정 트리를 초기화하고 훈련 세트에서 훈련한다.\n",
    "----"
   ]
  },
  {
   "cell_type": "code",
   "execution_count": 4,
   "id": "2d0b471a",
   "metadata": {},
   "outputs": [
    {
     "data": {
      "text/html": [
       "<style>#sk-container-id-1 {color: black;background-color: white;}#sk-container-id-1 pre{padding: 0;}#sk-container-id-1 div.sk-toggleable {background-color: white;}#sk-container-id-1 label.sk-toggleable__label {cursor: pointer;display: block;width: 100%;margin-bottom: 0;padding: 0.3em;box-sizing: border-box;text-align: center;}#sk-container-id-1 label.sk-toggleable__label-arrow:before {content: \"▸\";float: left;margin-right: 0.25em;color: #696969;}#sk-container-id-1 label.sk-toggleable__label-arrow:hover:before {color: black;}#sk-container-id-1 div.sk-estimator:hover label.sk-toggleable__label-arrow:before {color: black;}#sk-container-id-1 div.sk-toggleable__content {max-height: 0;max-width: 0;overflow: hidden;text-align: left;background-color: #f0f8ff;}#sk-container-id-1 div.sk-toggleable__content pre {margin: 0.2em;color: black;border-radius: 0.25em;background-color: #f0f8ff;}#sk-container-id-1 input.sk-toggleable__control:checked~div.sk-toggleable__content {max-height: 200px;max-width: 100%;overflow: auto;}#sk-container-id-1 input.sk-toggleable__control:checked~label.sk-toggleable__label-arrow:before {content: \"▾\";}#sk-container-id-1 div.sk-estimator input.sk-toggleable__control:checked~label.sk-toggleable__label {background-color: #d4ebff;}#sk-container-id-1 div.sk-label input.sk-toggleable__control:checked~label.sk-toggleable__label {background-color: #d4ebff;}#sk-container-id-1 input.sk-hidden--visually {border: 0;clip: rect(1px 1px 1px 1px);clip: rect(1px, 1px, 1px, 1px);height: 1px;margin: -1px;overflow: hidden;padding: 0;position: absolute;width: 1px;}#sk-container-id-1 div.sk-estimator {font-family: monospace;background-color: #f0f8ff;border: 1px dotted black;border-radius: 0.25em;box-sizing: border-box;margin-bottom: 0.5em;}#sk-container-id-1 div.sk-estimator:hover {background-color: #d4ebff;}#sk-container-id-1 div.sk-parallel-item::after {content: \"\";width: 100%;border-bottom: 1px solid gray;flex-grow: 1;}#sk-container-id-1 div.sk-label:hover label.sk-toggleable__label {background-color: #d4ebff;}#sk-container-id-1 div.sk-serial::before {content: \"\";position: absolute;border-left: 1px solid gray;box-sizing: border-box;top: 0;bottom: 0;left: 50%;z-index: 0;}#sk-container-id-1 div.sk-serial {display: flex;flex-direction: column;align-items: center;background-color: white;padding-right: 0.2em;padding-left: 0.2em;position: relative;}#sk-container-id-1 div.sk-item {position: relative;z-index: 1;}#sk-container-id-1 div.sk-parallel {display: flex;align-items: stretch;justify-content: center;background-color: white;position: relative;}#sk-container-id-1 div.sk-item::before, #sk-container-id-1 div.sk-parallel-item::before {content: \"\";position: absolute;border-left: 1px solid gray;box-sizing: border-box;top: 0;bottom: 0;left: 50%;z-index: -1;}#sk-container-id-1 div.sk-parallel-item {display: flex;flex-direction: column;z-index: 1;position: relative;background-color: white;}#sk-container-id-1 div.sk-parallel-item:first-child::after {align-self: flex-end;width: 50%;}#sk-container-id-1 div.sk-parallel-item:last-child::after {align-self: flex-start;width: 50%;}#sk-container-id-1 div.sk-parallel-item:only-child::after {width: 0;}#sk-container-id-1 div.sk-dashed-wrapped {border: 1px dashed gray;margin: 0 0.4em 0.5em 0.4em;box-sizing: border-box;padding-bottom: 0.4em;background-color: white;}#sk-container-id-1 div.sk-label label {font-family: monospace;font-weight: bold;display: inline-block;line-height: 1.2em;}#sk-container-id-1 div.sk-label-container {text-align: center;}#sk-container-id-1 div.sk-container {/* jupyter's `normalize.less` sets `[hidden] { display: none; }` but bootstrap.min.css set `[hidden] { display: none !important; }` so we also need the `!important` here to be able to override the default hidden behavior on the sphinx rendered scikit-learn.org. See: https://github.com/scikit-learn/scikit-learn/issues/21755 */display: inline-block !important;position: relative;}#sk-container-id-1 div.sk-text-repr-fallback {display: none;}</style><div id=\"sk-container-id-1\" class=\"sk-top-container\"><div class=\"sk-text-repr-fallback\"><pre>DecisionTreeRegressor(max_depth=2, random_state=2)</pre><b>In a Jupyter environment, please rerun this cell to show the HTML representation or trust the notebook. <br />On GitHub, the HTML representation is unable to render, please try loading this page with nbviewer.org.</b></div><div class=\"sk-container\" hidden><div class=\"sk-item\"><div class=\"sk-estimator sk-toggleable\"><input class=\"sk-toggleable__control sk-hidden--visually\" id=\"sk-estimator-id-1\" type=\"checkbox\" checked><label for=\"sk-estimator-id-1\" class=\"sk-toggleable__label sk-toggleable__label-arrow\">DecisionTreeRegressor</label><div class=\"sk-toggleable__content\"><pre>DecisionTreeRegressor(max_depth=2, random_state=2)</pre></div></div></div></div></div>"
      ],
      "text/plain": [
       "DecisionTreeRegressor(max_depth=2, random_state=2)"
      ]
     },
     "execution_count": 4,
     "metadata": {},
     "output_type": "execute_result"
    }
   ],
   "source": [
    "from sklearn.tree import DecisionTreeRegressor\n",
    "tree_1 = DecisionTreeRegressor(max_depth = 2, random_state=2)\n",
    "tree_1.fit(x_train, y_train)"
   ]
  },
  {
   "cell_type": "markdown",
   "id": "6ff6f7fa",
   "metadata": {},
   "source": [
    "---\n",
    "2. **테스트 세트가 아니라 훈련 세트에 대한 예측을 만든다.** 잔차를 계산하기 위해서 훈련 단계에서 예측과 타깃을 비교해야 하기때문이다. 모델의 테스트 단계는 모든 트리를 구성한 후 마지막에 온다. tree_1의 predict()메서드에 x_train을 입력하여 첫 번째 반복에 대한 훈련 세트 예측을 만든다."
   ]
  },
  {
   "cell_type": "code",
   "execution_count": 5,
   "id": "a4f1486c",
   "metadata": {},
   "outputs": [],
   "source": [
    "y_train_pred = tree_1.predict(x_train)"
   ]
  },
  {
   "cell_type": "markdown",
   "id": "6cd4ec00",
   "metadata": {},
   "source": [
    "- 잔차를 계산한다. 잔차는 예측과 타깃 사이의 차이이다.\n",
    "- X_train 예측인 y_train_pred를 타깃 y_train에서 빼어 잔차를 구한다."
   ]
  },
  {
   "cell_type": "code",
   "execution_count": 6,
   "id": "7727ce33",
   "metadata": {},
   "outputs": [],
   "source": [
    "# 잔차는 다음 트리의 타깃이 되기 때문에 y2_train이라고 이름을 지었다.\n",
    "\n",
    "y2_train = y_train - y_train_pred\n"
   ]
  },
  {
   "cell_type": "markdown",
   "id": "fb88b8b8",
   "metadata": {},
   "source": [
    "4. 새로운 트리를 이 잔차에서 훈련한다. 잔차에서 트리를 훈련하는 것은 훈련 세트에서 훈련하는 것과 다르다. 주요한 차이는 예측값이다. 자전거 대여 데이터셋에서 잔차에 새로운 트리를 훈련할 때 점점 더 작은 값을 얻는다. 새로운 트리를 초기화하고 x_train, y2_train에서 훈련한다."
   ]
  },
  {
   "cell_type": "code",
   "execution_count": 7,
   "id": "cdcf3d30",
   "metadata": {},
   "outputs": [
    {
     "data": {
      "text/html": [
       "<style>#sk-container-id-2 {color: black;background-color: white;}#sk-container-id-2 pre{padding: 0;}#sk-container-id-2 div.sk-toggleable {background-color: white;}#sk-container-id-2 label.sk-toggleable__label {cursor: pointer;display: block;width: 100%;margin-bottom: 0;padding: 0.3em;box-sizing: border-box;text-align: center;}#sk-container-id-2 label.sk-toggleable__label-arrow:before {content: \"▸\";float: left;margin-right: 0.25em;color: #696969;}#sk-container-id-2 label.sk-toggleable__label-arrow:hover:before {color: black;}#sk-container-id-2 div.sk-estimator:hover label.sk-toggleable__label-arrow:before {color: black;}#sk-container-id-2 div.sk-toggleable__content {max-height: 0;max-width: 0;overflow: hidden;text-align: left;background-color: #f0f8ff;}#sk-container-id-2 div.sk-toggleable__content pre {margin: 0.2em;color: black;border-radius: 0.25em;background-color: #f0f8ff;}#sk-container-id-2 input.sk-toggleable__control:checked~div.sk-toggleable__content {max-height: 200px;max-width: 100%;overflow: auto;}#sk-container-id-2 input.sk-toggleable__control:checked~label.sk-toggleable__label-arrow:before {content: \"▾\";}#sk-container-id-2 div.sk-estimator input.sk-toggleable__control:checked~label.sk-toggleable__label {background-color: #d4ebff;}#sk-container-id-2 div.sk-label input.sk-toggleable__control:checked~label.sk-toggleable__label {background-color: #d4ebff;}#sk-container-id-2 input.sk-hidden--visually {border: 0;clip: rect(1px 1px 1px 1px);clip: rect(1px, 1px, 1px, 1px);height: 1px;margin: -1px;overflow: hidden;padding: 0;position: absolute;width: 1px;}#sk-container-id-2 div.sk-estimator {font-family: monospace;background-color: #f0f8ff;border: 1px dotted black;border-radius: 0.25em;box-sizing: border-box;margin-bottom: 0.5em;}#sk-container-id-2 div.sk-estimator:hover {background-color: #d4ebff;}#sk-container-id-2 div.sk-parallel-item::after {content: \"\";width: 100%;border-bottom: 1px solid gray;flex-grow: 1;}#sk-container-id-2 div.sk-label:hover label.sk-toggleable__label {background-color: #d4ebff;}#sk-container-id-2 div.sk-serial::before {content: \"\";position: absolute;border-left: 1px solid gray;box-sizing: border-box;top: 0;bottom: 0;left: 50%;z-index: 0;}#sk-container-id-2 div.sk-serial {display: flex;flex-direction: column;align-items: center;background-color: white;padding-right: 0.2em;padding-left: 0.2em;position: relative;}#sk-container-id-2 div.sk-item {position: relative;z-index: 1;}#sk-container-id-2 div.sk-parallel {display: flex;align-items: stretch;justify-content: center;background-color: white;position: relative;}#sk-container-id-2 div.sk-item::before, #sk-container-id-2 div.sk-parallel-item::before {content: \"\";position: absolute;border-left: 1px solid gray;box-sizing: border-box;top: 0;bottom: 0;left: 50%;z-index: -1;}#sk-container-id-2 div.sk-parallel-item {display: flex;flex-direction: column;z-index: 1;position: relative;background-color: white;}#sk-container-id-2 div.sk-parallel-item:first-child::after {align-self: flex-end;width: 50%;}#sk-container-id-2 div.sk-parallel-item:last-child::after {align-self: flex-start;width: 50%;}#sk-container-id-2 div.sk-parallel-item:only-child::after {width: 0;}#sk-container-id-2 div.sk-dashed-wrapped {border: 1px dashed gray;margin: 0 0.4em 0.5em 0.4em;box-sizing: border-box;padding-bottom: 0.4em;background-color: white;}#sk-container-id-2 div.sk-label label {font-family: monospace;font-weight: bold;display: inline-block;line-height: 1.2em;}#sk-container-id-2 div.sk-label-container {text-align: center;}#sk-container-id-2 div.sk-container {/* jupyter's `normalize.less` sets `[hidden] { display: none; }` but bootstrap.min.css set `[hidden] { display: none !important; }` so we also need the `!important` here to be able to override the default hidden behavior on the sphinx rendered scikit-learn.org. See: https://github.com/scikit-learn/scikit-learn/issues/21755 */display: inline-block !important;position: relative;}#sk-container-id-2 div.sk-text-repr-fallback {display: none;}</style><div id=\"sk-container-id-2\" class=\"sk-top-container\"><div class=\"sk-text-repr-fallback\"><pre>DecisionTreeRegressor(max_depth=2, random_state=2)</pre><b>In a Jupyter environment, please rerun this cell to show the HTML representation or trust the notebook. <br />On GitHub, the HTML representation is unable to render, please try loading this page with nbviewer.org.</b></div><div class=\"sk-container\" hidden><div class=\"sk-item\"><div class=\"sk-estimator sk-toggleable\"><input class=\"sk-toggleable__control sk-hidden--visually\" id=\"sk-estimator-id-2\" type=\"checkbox\" checked><label for=\"sk-estimator-id-2\" class=\"sk-toggleable__label sk-toggleable__label-arrow\">DecisionTreeRegressor</label><div class=\"sk-toggleable__content\"><pre>DecisionTreeRegressor(max_depth=2, random_state=2)</pre></div></div></div></div></div>"
      ],
      "text/plain": [
       "DecisionTreeRegressor(max_depth=2, random_state=2)"
      ]
     },
     "execution_count": 7,
     "metadata": {},
     "output_type": "execute_result"
    }
   ],
   "source": [
    "tree_2 = DecisionTreeRegressor(max_depth =2, random_state=2) # 초기화\n",
    "tree_2.fit(x_train, y2_train)"
   ]
  },
  {
   "cell_type": "markdown",
   "id": "c92b1050",
   "metadata": {},
   "source": [
    "5. 2~4단계를 반복한다. 이 과정이 계속되면서 잔차는 양수나 음수 방향으로 0에 가까워진다. 앙상블에 추가할 트리 개수만큼 반복이 계속된다. 세 번째 트리에서 이 과정을 반복해보겠다."
   ]
  },
  {
   "cell_type": "code",
   "execution_count": 8,
   "id": "63afb681",
   "metadata": {},
   "outputs": [
    {
     "data": {
      "text/html": [
       "<style>#sk-container-id-3 {color: black;background-color: white;}#sk-container-id-3 pre{padding: 0;}#sk-container-id-3 div.sk-toggleable {background-color: white;}#sk-container-id-3 label.sk-toggleable__label {cursor: pointer;display: block;width: 100%;margin-bottom: 0;padding: 0.3em;box-sizing: border-box;text-align: center;}#sk-container-id-3 label.sk-toggleable__label-arrow:before {content: \"▸\";float: left;margin-right: 0.25em;color: #696969;}#sk-container-id-3 label.sk-toggleable__label-arrow:hover:before {color: black;}#sk-container-id-3 div.sk-estimator:hover label.sk-toggleable__label-arrow:before {color: black;}#sk-container-id-3 div.sk-toggleable__content {max-height: 0;max-width: 0;overflow: hidden;text-align: left;background-color: #f0f8ff;}#sk-container-id-3 div.sk-toggleable__content pre {margin: 0.2em;color: black;border-radius: 0.25em;background-color: #f0f8ff;}#sk-container-id-3 input.sk-toggleable__control:checked~div.sk-toggleable__content {max-height: 200px;max-width: 100%;overflow: auto;}#sk-container-id-3 input.sk-toggleable__control:checked~label.sk-toggleable__label-arrow:before {content: \"▾\";}#sk-container-id-3 div.sk-estimator input.sk-toggleable__control:checked~label.sk-toggleable__label {background-color: #d4ebff;}#sk-container-id-3 div.sk-label input.sk-toggleable__control:checked~label.sk-toggleable__label {background-color: #d4ebff;}#sk-container-id-3 input.sk-hidden--visually {border: 0;clip: rect(1px 1px 1px 1px);clip: rect(1px, 1px, 1px, 1px);height: 1px;margin: -1px;overflow: hidden;padding: 0;position: absolute;width: 1px;}#sk-container-id-3 div.sk-estimator {font-family: monospace;background-color: #f0f8ff;border: 1px dotted black;border-radius: 0.25em;box-sizing: border-box;margin-bottom: 0.5em;}#sk-container-id-3 div.sk-estimator:hover {background-color: #d4ebff;}#sk-container-id-3 div.sk-parallel-item::after {content: \"\";width: 100%;border-bottom: 1px solid gray;flex-grow: 1;}#sk-container-id-3 div.sk-label:hover label.sk-toggleable__label {background-color: #d4ebff;}#sk-container-id-3 div.sk-serial::before {content: \"\";position: absolute;border-left: 1px solid gray;box-sizing: border-box;top: 0;bottom: 0;left: 50%;z-index: 0;}#sk-container-id-3 div.sk-serial {display: flex;flex-direction: column;align-items: center;background-color: white;padding-right: 0.2em;padding-left: 0.2em;position: relative;}#sk-container-id-3 div.sk-item {position: relative;z-index: 1;}#sk-container-id-3 div.sk-parallel {display: flex;align-items: stretch;justify-content: center;background-color: white;position: relative;}#sk-container-id-3 div.sk-item::before, #sk-container-id-3 div.sk-parallel-item::before {content: \"\";position: absolute;border-left: 1px solid gray;box-sizing: border-box;top: 0;bottom: 0;left: 50%;z-index: -1;}#sk-container-id-3 div.sk-parallel-item {display: flex;flex-direction: column;z-index: 1;position: relative;background-color: white;}#sk-container-id-3 div.sk-parallel-item:first-child::after {align-self: flex-end;width: 50%;}#sk-container-id-3 div.sk-parallel-item:last-child::after {align-self: flex-start;width: 50%;}#sk-container-id-3 div.sk-parallel-item:only-child::after {width: 0;}#sk-container-id-3 div.sk-dashed-wrapped {border: 1px dashed gray;margin: 0 0.4em 0.5em 0.4em;box-sizing: border-box;padding-bottom: 0.4em;background-color: white;}#sk-container-id-3 div.sk-label label {font-family: monospace;font-weight: bold;display: inline-block;line-height: 1.2em;}#sk-container-id-3 div.sk-label-container {text-align: center;}#sk-container-id-3 div.sk-container {/* jupyter's `normalize.less` sets `[hidden] { display: none; }` but bootstrap.min.css set `[hidden] { display: none !important; }` so we also need the `!important` here to be able to override the default hidden behavior on the sphinx rendered scikit-learn.org. See: https://github.com/scikit-learn/scikit-learn/issues/21755 */display: inline-block !important;position: relative;}#sk-container-id-3 div.sk-text-repr-fallback {display: none;}</style><div id=\"sk-container-id-3\" class=\"sk-top-container\"><div class=\"sk-text-repr-fallback\"><pre>DecisionTreeRegressor(max_depth=2, random_state=2)</pre><b>In a Jupyter environment, please rerun this cell to show the HTML representation or trust the notebook. <br />On GitHub, the HTML representation is unable to render, please try loading this page with nbviewer.org.</b></div><div class=\"sk-container\" hidden><div class=\"sk-item\"><div class=\"sk-estimator sk-toggleable\"><input class=\"sk-toggleable__control sk-hidden--visually\" id=\"sk-estimator-id-3\" type=\"checkbox\" checked><label for=\"sk-estimator-id-3\" class=\"sk-toggleable__label sk-toggleable__label-arrow\">DecisionTreeRegressor</label><div class=\"sk-toggleable__content\"><pre>DecisionTreeRegressor(max_depth=2, random_state=2)</pre></div></div></div></div></div>"
      ],
      "text/plain": [
       "DecisionTreeRegressor(max_depth=2, random_state=2)"
      ]
     },
     "execution_count": 8,
     "metadata": {},
     "output_type": "execute_result"
    }
   ],
   "source": [
    "y2_train_pred = tree_2.predict(x_train)\n",
    "y3_train = y2_train - y2_train_pred\n",
    "tree_3 = DecisionTreeRegressor(max_depth = 2, random_state=2)\n",
    "tree_3.fit(x_train, y3_train)"
   ]
  },
  {
   "cell_type": "markdown",
   "id": "37061833",
   "metadata": {},
   "source": [
    "이 과정이 수십,수백,수천 개의 트리까지 계속될 수 있다. 일반적인 상황이라면 계속 진행될 것이다. 약한 학습기를 강력한 학습기로 만들려면 몇개 트리로는 부족하다. 여기서 목적은 그레이디언트 부스팅의 작동방식을 이해하는 것이기 때문에 일반적인 개념을 다룬 것에 만족하자.\n",
    "\n",
    "---\n",
    "6. 결과를 더하자. 다음처럼 최종 결과를 위해 테스트 세트에 대한 각 트리의 예측을 만든다."
   ]
  },
  {
   "cell_type": "code",
   "execution_count": 9,
   "id": "c2e377d3",
   "metadata": {},
   "outputs": [],
   "source": [
    "y1_pred = tree_1.predict(x_test)\n",
    "y2_pred = tree_2.predict(x_test)\n",
    "y3_pred = tree_3.predict(x_test)"
   ]
  },
  {
   "cell_type": "code",
   "execution_count": 10,
   "id": "552a2a12",
   "metadata": {},
   "outputs": [],
   "source": [
    "y_pred = y1_pred + y2_pred + y3_pred"
   ]
  },
  {
   "cell_type": "markdown",
   "id": "6802c3f0",
   "metadata": {},
   "source": [
    "7. 마지막으로 다음처럼 평균 제곱근 오차를 계산하자."
   ]
  },
  {
   "cell_type": "code",
   "execution_count": 11,
   "id": "6be8389f",
   "metadata": {},
   "outputs": [
    {
     "data": {
      "text/plain": [
       "911.0479538776444"
      ]
     },
     "execution_count": 11,
     "metadata": {},
     "output_type": "execute_result"
    }
   ],
   "source": [
    "from sklearn.metrics import mean_squared_error as MSE\n",
    "MSE(y_test, y_pred)**0.5"
   ]
  },
  {
   "cell_type": "markdown",
   "id": "a1e3ba3a",
   "metadata": {},
   "source": [
    "## 사이킷런 구현 "
   ]
  },
  {
   "cell_type": "code",
   "execution_count": 12,
   "id": "e2f61c1a",
   "metadata": {},
   "outputs": [
    {
     "data": {
      "text/plain": [
       "911.0479538776432"
      ]
     },
     "execution_count": 12,
     "metadata": {},
     "output_type": "execute_result"
    }
   ],
   "source": [
    "# 사이킷런의 그레이디언트 부스틍 회귀 모델의 기본 손실 함수는 제곱 오차이고 \n",
    "# 분류 모델의 기본 손실 함수는 로지스틱 손실 함수이다.\n",
    "# 경사 하강법으로 두 함수를 미분하면 모두 y - y_pred꼴을 얻는다.\n",
    "\n",
    "# 타깃과 평균 사이 잔차1를 구한다.\n",
    "# 그 잔차로 훈련한다.\n",
    "res_1 = y_train - np.mean(y_train)\n",
    "tree_1.fit(x_train, res_1)\n",
    "\n",
    "# 잔차 2를 구한다.\n",
    "# 그 잔차2로 훈련한다.\n",
    "pred_1 = tree_1.predict(x_train)\n",
    "res_2 = y_train - pred_1\n",
    "tree_2.fit(x_train, res_2)\n",
    "\n",
    "# 잔차3을 구한다.\n",
    "# 그 잔차3으로 훈련한다.\n",
    "pred_2 = tree_2.predict(x_train)\n",
    "res_3 = y_train - (pred_1 + pred_2)\n",
    "tree_3.fit(x_train, res_3)\n",
    "\n",
    "# 앙상블에 추가된 세 개의 트리로 테스트 세트에 대한 예측을 만들어 모두 더하고 타깃과의 오차를 계산한다.\n",
    "from sklearn.metrics import mean_squared_error\n",
    "\n",
    "pred_all = tree_1.predict(x_test) + tree_2.predict(x_test) + tree_3.predict(x_test)\n",
    "mean_squared_error(y_test, pred_all, squared=False)\n",
    "\n",
    "# GradientBoostingClassifier의 경우 클래스별로 각 트리의 예측을 더한 후 시그모이드 함수를 적용한다.\n"
   ]
  },
  {
   "cell_type": "markdown",
   "id": "dae0e8e6",
   "metadata": {},
   "source": [
    "## 4.2.4 사이킷런으로 그레이디언트 부스팅 모델 만들기\n",
    "- 사이킷런의 GradientBoostingRegressor을 상요하면 이전 절과 동일한 결과를 얻을 수 있다.\n",
    "- GradientBoostingRegressor을 사용하면 그레이디언트 부스팅 알고리즘을 훨씬 빠르고 쉽게 구현가능."
   ]
  },
  {
   "cell_type": "code",
   "execution_count": 13,
   "id": "e7556cec",
   "metadata": {},
   "outputs": [],
   "source": [
    "# 1. 먼저 Sklearn.ensemble 모듈에서 GradientBoostingRegressor 클래스를 임포트\n",
    "from sklearn.ensemble import GradientBoostingRegressor"
   ]
  },
  {
   "cell_type": "code",
   "execution_count": 14,
   "id": "ff7f3ff5",
   "metadata": {},
   "outputs": [],
   "source": [
    "# 2. GradientBoostingRegressor를 초기화할 때 중요한 매개변수가 몇 개 있다.\n",
    "# 이전 절과 동일한 결과를 얻기 위해 max_depth = 2, random_state=2로 지정하는 것이 중요하다.\n",
    "# 또한 세개의 트리만 사용하기 때문에 n_estimators=3으로 지정한다. 마지막으로 learning_rate = 3으로 설정한다.\n",
    "\n",
    "gbr = GradientBoostingRegressor(max_depth = 2, n_estimators = 3, random_state = 2, learning_rate = 1.0)\n"
   ]
  },
  {
   "cell_type": "code",
   "execution_count": 15,
   "id": "84a716a3",
   "metadata": {},
   "outputs": [
    {
     "data": {
      "text/plain": [
       "911.0479538776439"
      ]
     },
     "execution_count": 15,
     "metadata": {},
     "output_type": "execute_result"
    }
   ],
   "source": [
    "# 3. 이전 모델을 초기화했으므로 훈련데이터에서 훈련하고 테스트 데이터에서 모델을 평가해보자.\n",
    "gbr.fit(x_train, y_train)\n",
    "y_pred = gbr.predict(x_test)\n",
    "MSE(y_test, y_pred)**0.5"
   ]
  },
  {
   "cell_type": "code",
   "execution_count": 16,
   "id": "40e48da0",
   "metadata": {},
   "outputs": [
    {
     "data": {
      "text/plain": [
       "857.1072323426944"
      ]
     },
     "execution_count": 16,
     "metadata": {},
     "output_type": "execute_result"
    }
   ],
   "source": [
    "# 4. 30개의 트리로 그레이디언트 부스팅 회귀 모델을 만들고 평가해보겠다.\n",
    "gbr = GradientBoostingRegressor(max_depth = 2, n_estimators=30, random_state = 2, learning_rate=1.0)\n",
    "\n",
    "gbr.fit(x_train, y_train)\n",
    "y_pred = gbr.predict(x_test)\n",
    "MSE(y_test, y_pred)**0.5\n",
    "\n",
    "#rmse = np.sqrt(score)\n"
   ]
  },
  {
   "cell_type": "markdown",
   "id": "72154b6b",
   "metadata": {},
   "source": [
    "MSE: MSE는 평균 제곱 오차(Mean Squared Error)로서, 실제값과 예측값 간의 오차를 **제곱하여** 평균을 구한 값입니다. 각 데이터 포인트에 대해 오차를 제곱한 후 모든 데이터 포인트에 대한 제곱 오차의 평균을 구합니다. MSE는 오차를 양수로 만들어주고, 특히 큰 오차의 영향을 강조합니다.\n",
    "\n",
    "**0.5: 이 부분은 MSE의 제곱근을 의미합니다. 제곱근을 취함으로써 오차의 원래 스케일로 돌아오게 됩니다. 즉, 예측 오차를 다시 원래의 단위로 변환하여 해석할 수 있게 됩니다. 예측 오차가 양의 값으로 제곱되었으므로, 제곱근을 취하면 오차가 항상 양수가 됩니다.\n",
    "\n",
    "Sqrt의 경우 제곱근"
   ]
  },
  {
   "cell_type": "code",
   "execution_count": 17,
   "id": "c6abc77a",
   "metadata": {},
   "outputs": [
    {
     "data": {
      "text/plain": [
       "936.3617413678853"
      ]
     },
     "execution_count": 17,
     "metadata": {},
     "output_type": "execute_result"
    }
   ],
   "source": [
    "# 이번에는 300개를 늘려보겠다.\n",
    "gbr = GradientBoostingRegressor(max_depth = 2, n_estimators = 300, random_state=2, learning_rate=1.0)\n",
    "\n",
    "gbr.fit(x_train, y_train)\n",
    "y_pred = gbr.predict(x_test)\n",
    "MSE(y_test, y_pred)**0.5 # 실제값과 예측값의 차이 "
   ]
  },
  {
   "cell_type": "markdown",
   "id": "98aab48a",
   "metadata": {},
   "source": [
    "- 놀란다. 점수가 더 나빠졌다. 무엇을 잘못한걸까? \n",
    "- 놀라운 결과를 얻을 때마다 코드를 재차 확인해볼 필요가 있다.\n",
    "- 아직 자세히 설명하지 않았지만 learning_rate 매개변수를 바꿔보자. learning_rate = 1.0을 제거하고 사이킷런 기본값을 사용하면 어떻게 될까?"
   ]
  },
  {
   "cell_type": "code",
   "execution_count": 18,
   "id": "2c787e56",
   "metadata": {},
   "outputs": [
    {
     "data": {
      "text/plain": [
       "653.7456840231495"
      ]
     },
     "execution_count": 18,
     "metadata": {},
     "output_type": "execute_result"
    }
   ],
   "source": [
    "gbr = GradientBoostingRegressor(max_depth = 2, n_estimators=300, random_state=2)\n",
    "gbr.fit(x_train, y_train)\n",
    "y_pred = gbr.predict(x_test)\n",
    "MSE(y_test, y_pred) **0.5"
   ]
  },
  {
   "cell_type": "markdown",
   "id": "7fff6823",
   "metadata": {},
   "source": [
    "- 사이킷런의 learning_Rate 기본값을 상요해 점수를 936점에서 654로 낮추었다.\n",
    "- 다음 절에서 learning_rate 매개변수에 초점을 맞추면서 그레이디언트 부스팅의 다른 매개변수에 대해 알아보자."
   ]
  },
  {
   "cell_type": "markdown",
   "id": "e156d339",
   "metadata": {},
   "source": [
    "# 4.3 그레이디언트 부스팅 매개변수 튜닝\n",
    "- 이절에서 가장 중요한 그레이디언트 부스팅의 매개변수인 learning_rate와 모델의 트리 개수 또는 반복 횟수인 n_estimators에 초점을 맞춰보겠다.\n",
    "\n",
    "- 또한 확률적 그레이디언트 부스팅을 만드는 subsample 매개변수도 알아보겠다. 그리고 RandomizedSearchCV를 사용해 XGBoost와 결과를 비교하겠다.\n",
    "\n",
    "## 4.3.1 leaning_rate\n",
    "- 이전 절에서 GradientBoostingRegressor의 learning_rate 매개변수 값을 1.0에서 사이킷런 기본값인 0.1로 바꾸어서 크게 성능을 높였다.\n",
    "\n",
    "- learning_Rate는 모델 구축에 너무 큰 영향을 끼지치 않도록 개별 트리의 기여를 줄인다.\n",
    "- 이를 축소라고도 부른다. 이 매개변수를 주의 깊게 조정하지 않고 기본 학습기의 오차를 기반으로 전체 앙상블을 만들면 모델에 처음 추가된 트리의 영향이 너무 크게 된다. learning_rate는 개별 트리의 영향을 제한한다. **일반적으로 트릭 개수인 n_estimators를 늘리면 learning_rate는 줄여야 한다.**\n",
    "\n",
    "- 최적의 learning_Rate값을 결정하는 것은 n_estimators에 따라 다르다. 먼저 n_estimators를 고정하고 \n",
    "- learning_rate의 효과를 확인해보겠다.\n",
    "- learning_rate를 0에서 1까지 바꾸어보겠다. learning_Rate이 1이면 트리 결과에 어떤 조정도 하지 않는다는 의미\n",
    "- 기본값 0.1은 트리의 영향을 10%로 줄인다는 뜻. (모델에 처음 추가된 트리의 영향이 큼)\n",
    "\n"
   ]
  },
  {
   "cell_type": "code",
   "execution_count": 19,
   "id": "fe6d032b",
   "metadata": {},
   "outputs": [],
   "source": [
    "# 1. 테스트 범위 정의\n",
    "learning_rate_values = [0.001, 0.01, 0.05, 0.1, 0.15, 0.2, 0.3, 0.5, 1,0]"
   ]
  },
  {
   "cell_type": "code",
   "execution_count": 20,
   "id": "80560bf3",
   "metadata": {},
   "outputs": [
    {
     "name": "stdout",
     "output_type": "stream",
     "text": [
      "학습률: 0.001 , 점수: 1633.0261400367253\n",
      "학습률: 0.01 , 점수: 831.5430182728547\n",
      "학습률: 0.05 , 점수: 685.0192988749716\n",
      "학습률: 0.1 , 점수: 653.7456840231495\n",
      "학습률: 0.15 , 점수: 687.666134269379\n",
      "학습률: 0.2 , 점수: 664.312804425697\n",
      "학습률: 0.3 , 점수: 689.4190385930236\n",
      "학습률: 0.5 , 점수: 693.8856905068778\n",
      "학습률: 1 , 점수: 936.3617413678853\n",
      "학습률: 0 , 점수: 1983.0258367489087\n"
     ]
    }
   ],
   "source": [
    "for value in learning_rate_values:\n",
    "    gbr = GradientBoostingRegressor(max_depth = 2, n_estimators=300, random_state=2, learning_rate = value)\n",
    "    \n",
    "    gbr.fit(x_train, y_train)\n",
    "    y_pred = gbr.predict(x_test)\n",
    "    rmse = MSE(y_test, y_pred)**0.5\n",
    "    print('학습률:', value, ', 점수:', rmse)"
   ]
  },
  {
   "cell_type": "markdown",
   "id": "56a613ef",
   "metadata": {},
   "source": [
    "- 출력에서 볼 수 있듯이 기본 learning_rate 값 0.1이 300개의 트리에서 가장 좋은 성능을 낸다.\n",
    "- **정말 중요한점** learning_rate와 n_estimators 매개변수를 함께 튜닝해야 한다."
   ]
  },
  {
   "cell_type": "markdown",
   "id": "bfdd1ff3",
   "metadata": {},
   "source": [
    "## 4.3.2 기본 학습기\n",
    "- 그레이디언트 부스팅 회귀 모델의 기본학습는 결정 트리이다.\n",
    "- 이 결정 트리를 미세 튜닝할 필요가 없지만 2장에서 소개한 것처럼 정확도를 높이기 위해 기본 학습기의 매개변수를 조정할 수 있다.\n",
    "- 예를들어 max_depth를 1,2,3,4로 바꾸면서 결과를 비교해볼 수 있다."
   ]
  },
  {
   "cell_type": "code",
   "execution_count": 21,
   "id": "a9cf5432",
   "metadata": {},
   "outputs": [
    {
     "name": "stdout",
     "output_type": "stream",
     "text": [
      "최대깊이: None 점수: 874.8692494690362\n",
      "최대깊이: 1 점수: 727.9758708484177\n",
      "최대깊이: 2 점수: 654.2140821630711\n",
      "최대깊이: 3 점수: 646.4043764510722\n",
      "최대깊이: 4 점수: 658.1704956239338\n"
     ]
    }
   ],
   "source": [
    "depths = [None, 1,2,3,4]\n",
    "for depth in depths:\n",
    "    gbr = GradientBoostingRegressor(max_depth = depth, n_estimators=200, random_state=2)\n",
    "    gbr.fit(x_train, y_train)\n",
    "    \n",
    "    y_pred = gbr.predict(x_test)\n",
    "    rmse = MSE(y_test, y_pred)**0.5\n",
    "    print('최대깊이:', depth, '점수:', rmse)"
   ]
  },
  {
   "cell_type": "markdown",
   "id": "efec621c",
   "metadata": {},
   "source": [
    "## GradientBoostingRegressor의 손실 그래프 그리기\n",
    "- 사이킷런의 GradientBoostingClassifier와 GradientBoostingRegressor는 모두 잔차를 타깃으로 결정트리를 훈련하기 때문에 약한 학습기로 DecisionTreeRegressor(splitter = 'best')를 사용한다. max_depth 매개변수의 기본값은 3이다.\n",
    "---\n",
    "- 앞서 언급한 것처럼 첫 번째 잔차를 계산하기 위한 초기 모델은 **init_속성에 저장되어 있다.** 회귀일 경우 타깃 평균을 계산하는 DummyRegressor() 객체이고 분류일 경우 다수 클래스를 예측하는 DummyClassifier() 객체이다."
   ]
  },
  {
   "cell_type": "code",
   "execution_count": 22,
   "id": "d652f21b",
   "metadata": {},
   "outputs": [
    {
     "data": {
      "text/html": [
       "<style>#sk-container-id-4 {color: black;background-color: white;}#sk-container-id-4 pre{padding: 0;}#sk-container-id-4 div.sk-toggleable {background-color: white;}#sk-container-id-4 label.sk-toggleable__label {cursor: pointer;display: block;width: 100%;margin-bottom: 0;padding: 0.3em;box-sizing: border-box;text-align: center;}#sk-container-id-4 label.sk-toggleable__label-arrow:before {content: \"▸\";float: left;margin-right: 0.25em;color: #696969;}#sk-container-id-4 label.sk-toggleable__label-arrow:hover:before {color: black;}#sk-container-id-4 div.sk-estimator:hover label.sk-toggleable__label-arrow:before {color: black;}#sk-container-id-4 div.sk-toggleable__content {max-height: 0;max-width: 0;overflow: hidden;text-align: left;background-color: #f0f8ff;}#sk-container-id-4 div.sk-toggleable__content pre {margin: 0.2em;color: black;border-radius: 0.25em;background-color: #f0f8ff;}#sk-container-id-4 input.sk-toggleable__control:checked~div.sk-toggleable__content {max-height: 200px;max-width: 100%;overflow: auto;}#sk-container-id-4 input.sk-toggleable__control:checked~label.sk-toggleable__label-arrow:before {content: \"▾\";}#sk-container-id-4 div.sk-estimator input.sk-toggleable__control:checked~label.sk-toggleable__label {background-color: #d4ebff;}#sk-container-id-4 div.sk-label input.sk-toggleable__control:checked~label.sk-toggleable__label {background-color: #d4ebff;}#sk-container-id-4 input.sk-hidden--visually {border: 0;clip: rect(1px 1px 1px 1px);clip: rect(1px, 1px, 1px, 1px);height: 1px;margin: -1px;overflow: hidden;padding: 0;position: absolute;width: 1px;}#sk-container-id-4 div.sk-estimator {font-family: monospace;background-color: #f0f8ff;border: 1px dotted black;border-radius: 0.25em;box-sizing: border-box;margin-bottom: 0.5em;}#sk-container-id-4 div.sk-estimator:hover {background-color: #d4ebff;}#sk-container-id-4 div.sk-parallel-item::after {content: \"\";width: 100%;border-bottom: 1px solid gray;flex-grow: 1;}#sk-container-id-4 div.sk-label:hover label.sk-toggleable__label {background-color: #d4ebff;}#sk-container-id-4 div.sk-serial::before {content: \"\";position: absolute;border-left: 1px solid gray;box-sizing: border-box;top: 0;bottom: 0;left: 50%;z-index: 0;}#sk-container-id-4 div.sk-serial {display: flex;flex-direction: column;align-items: center;background-color: white;padding-right: 0.2em;padding-left: 0.2em;position: relative;}#sk-container-id-4 div.sk-item {position: relative;z-index: 1;}#sk-container-id-4 div.sk-parallel {display: flex;align-items: stretch;justify-content: center;background-color: white;position: relative;}#sk-container-id-4 div.sk-item::before, #sk-container-id-4 div.sk-parallel-item::before {content: \"\";position: absolute;border-left: 1px solid gray;box-sizing: border-box;top: 0;bottom: 0;left: 50%;z-index: -1;}#sk-container-id-4 div.sk-parallel-item {display: flex;flex-direction: column;z-index: 1;position: relative;background-color: white;}#sk-container-id-4 div.sk-parallel-item:first-child::after {align-self: flex-end;width: 50%;}#sk-container-id-4 div.sk-parallel-item:last-child::after {align-self: flex-start;width: 50%;}#sk-container-id-4 div.sk-parallel-item:only-child::after {width: 0;}#sk-container-id-4 div.sk-dashed-wrapped {border: 1px dashed gray;margin: 0 0.4em 0.5em 0.4em;box-sizing: border-box;padding-bottom: 0.4em;background-color: white;}#sk-container-id-4 div.sk-label label {font-family: monospace;font-weight: bold;display: inline-block;line-height: 1.2em;}#sk-container-id-4 div.sk-label-container {text-align: center;}#sk-container-id-4 div.sk-container {/* jupyter's `normalize.less` sets `[hidden] { display: none; }` but bootstrap.min.css set `[hidden] { display: none !important; }` so we also need the `!important` here to be able to override the default hidden behavior on the sphinx rendered scikit-learn.org. See: https://github.com/scikit-learn/scikit-learn/issues/21755 */display: inline-block !important;position: relative;}#sk-container-id-4 div.sk-text-repr-fallback {display: none;}</style><div id=\"sk-container-id-4\" class=\"sk-top-container\"><div class=\"sk-text-repr-fallback\"><pre>DummyRegressor()</pre><b>In a Jupyter environment, please rerun this cell to show the HTML representation or trust the notebook. <br />On GitHub, the HTML representation is unable to render, please try loading this page with nbviewer.org.</b></div><div class=\"sk-container\" hidden><div class=\"sk-item\"><div class=\"sk-estimator sk-toggleable\"><input class=\"sk-toggleable__control sk-hidden--visually\" id=\"sk-estimator-id-4\" type=\"checkbox\" checked><label for=\"sk-estimator-id-4\" class=\"sk-toggleable__label sk-toggleable__label-arrow\">DummyRegressor</label><div class=\"sk-toggleable__content\"><pre>DummyRegressor()</pre></div></div></div></div></div>"
      ],
      "text/plain": [
       "DummyRegressor()"
      ]
     },
     "execution_count": 22,
     "metadata": {},
     "output_type": "execute_result"
    }
   ],
   "source": [
    "gbr.init_"
   ]
  },
  {
   "cell_type": "code",
   "execution_count": 23,
   "id": "42b024bf",
   "metadata": {},
   "outputs": [
    {
     "data": {
      "text/plain": [
       "200"
      ]
     },
     "execution_count": 23,
     "metadata": {},
     "output_type": "execute_result"
    }
   ],
   "source": [
    "# 앙상블에 추가된 트리는 estimators_ 속성에 저장되어 있다. \n",
    "# 이 배열의 길이를 확인하면 앙상블에 추가된 트리의 개수를 알 수 있다.\n",
    "len(gbr.estimators_)"
   ]
  },
  {
   "cell_type": "code",
   "execution_count": 24,
   "id": "d8deedc7",
   "metadata": {},
   "outputs": [
    {
     "data": {
      "image/png": "[encoded data removed]",
      "text/plain": [
       "<Figure size 1500x800 with 1 Axes>"
      ]
     },
     "metadata": {},
     "output_type": "display_data"
    }
   ],
   "source": [
    "# 그레이디언트 부스팅 모델에 트리를 추가하면서 줄어드는 손실 함수 값은 train_score_속성에 저장되어 있다.\n",
    "# 이 속성을 사용해 트리가 추가되면서 줄어드는 손실 값을 그래프로 출력해보겠다.\n",
    "import matplotlib.pyplot as plt\n",
    "\n",
    "plt.figure(figsize=(15, 8))\n",
    "plt.plot(range(1, 201), gbr.train_score_)  # range(1, 301)을 range(1, 201)로 수정\n",
    "plt.xlabel('n_estimators')\n",
    "plt.ylabel('train_score_')\n",
    "plt.title('Train Score')\n",
    "plt.show()"
   ]
  },
  {
   "cell_type": "markdown",
   "id": "9ca8f503",
   "metadata": {},
   "source": [
    "- 초기에 손실이 크게 줄어들지만 트리 개수가 30개 정도를 넘어가면서 완만해지는 것을 볼 수 있다.\n",
    "- 사이킷런의 그레이디언트 부스팅 클래스는 일정한 수준 이상 향상되지 않으면 훈련을 종료할 수 있는 조기 종료 기법을 제공한다.\n",
    "- validation_fraction(기본값 0.1)만큼 훈련 세트에서 검증 데이터를 덜어낸 다음 n_iter_no_change 반복 횟수 동안 검증 점수가 tol(기본값 1e~4)만큼 향상되지 않으면 훈련을 종료한다. n_iter_no_change의 기본값은 None으로 조기 조욜를 수행하지 않는다."
   ]
  },
  {
   "cell_type": "markdown",
   "id": "44e9b9e1",
   "metadata": {},
   "source": [
    "## 4.3.3 subsample\n",
    "- subsample 매개변수는 기본 학습기에 사용될 샘플의 비율을 지정한다.\n",
    "- subsample을 1.0보다 작게 설정하면 트리를 훈련할 때 샘플의 일부만 사용하게 된다.\n",
    "- 예를들어 subsample = 0.8은 80%의 훈련 세트만 사용하여 각 트리를 훈련한다."
   ]
  },
  {
   "cell_type": "code",
   "execution_count": 25,
   "id": "5e034886",
   "metadata": {},
   "outputs": [
    {
     "name": "stdout",
     "output_type": "stream",
     "text": [
      "subsample: 1 , 점수: 646.4045923317708\n",
      "subsample: 0.9 , 점수: 620.1819001443569\n",
      "subsample: 0.8 , 점수: 617.2355650565677\n",
      "subsample: 0.7 , 점수: 608.5878109774266\n",
      "subsample: 0.6 , 점수: 636.998132650159\n",
      "subsample: 0.5 , 점수: 626.9974073227554\n"
     ]
    }
   ],
   "source": [
    "samples = [1, 0.9, 0.8, 0.7, 0.6, 0.5]\n",
    "for sample in samples:\n",
    "    gbr = GradientBoostingRegressor(max_depth = 3, n_estimators = 300, subsample = sample, random_state = 2)\n",
    "    \n",
    "    gbr.fit(x_train, y_train)\n",
    "    y_pred = gbr.predict(x_test)\n",
    "    rmse = MSE(y_test, y_pred)**0.5\n",
    "    print('subsample:', sample, ', 점수:', rmse)"
   ]
  },
  {
   "cell_type": "markdown",
   "id": "93b72be1",
   "metadata": {},
   "source": [
    "## 4.3.4 RandomizedSearchCV\n",
    "- 잘 동작하는 모델을 얻었지만 아직 2장에서 소개한 그리드 서치를 수행하지 않았다. 앞선 모델을 참고했을 때\n",
    "- max_depth=3, subsample = 0.7, n_estimators = 300, learning_rate = 0.1 근처가 그리드 서치로 탐색하기 좋은 출발점이다.\n",
    "- n_estimators는 높이고 learning_rate는 낮추는 것이 좋다."
   ]
  },
  {
   "cell_type": "code",
   "execution_count": 26,
   "id": "31271aed",
   "metadata": {},
   "outputs": [],
   "source": [
    "# 1. 탐색할 매개변수 리스트를 지정한다.\n",
    "\n",
    "params = {'subsample': [0.65, 0.7, 0.75],\n",
    "           'n_estimators': [300,500,1000],\n",
    "           'learning_rate': [0.05, 0.075, 0.1]\n",
    "          }"
   ]
  },
  {
   "cell_type": "markdown",
   "id": "ab72da1d",
   "metadata": {},
   "source": [
    "- n_estimators는 300에서 시작해서 증가시키고, learning_rate는 0.1에서 시작해서 줄인다. 분산을 줄이기 위해 max_depth = 3으로 유지하겠다.\n",
    "- 가능한 하이퍼파라미터 조합이 27개이므로 RandomizedSearchCV를 사용해 이 조합에서 10번을 시도해 좋은 모델을 찾아보겠다.\n",
    "\n",
    "> **GridSearchCV**로도 27번의 조합을 탐색할 수 있지만 어느 순간 조합이 많아지면 **RandomizedSearchCV**가 필요하다. 여기서는 속도를 높이고 연습하기 위해서 **RandomizedSearchCV**를 사용한다."
   ]
  },
  {
   "cell_type": "code",
   "execution_count": 27,
   "id": "8abb94ff",
   "metadata": {},
   "outputs": [],
   "source": [
    "# 2. RandomizedSearchCV를 임포트하고 그레이디언트 부스팅 모델을 초기화한다.\n",
    "from sklearn.model_selection import RandomizedSearchCV\n",
    "gbr = GradientBoostingRegressor(max_depth = 3, random_state=2)"
   ]
  },
  {
   "cell_type": "code",
   "execution_count": 28,
   "id": "62875626",
   "metadata": {},
   "outputs": [],
   "source": [
    "# 그 다음 gbr과 Parmas, 반복 횟수, 측정 지표, 폴드 개수를 입력으로 사용해 RandomizedSearchCV 객체를 초기화한다.\n",
    "# 속도를 높이기 위해 n_jobs = -1로 지정하고 동일한 결과를 얻기 위해 random_State = 2로 지정한다.\n",
    "\n",
    "rand_reg = RandomizedSearchCV(gbr, params, n_iter = 10, scoring = 'neg_mean_squared_error', cv = 5, n_jobs = -1, random_state= 2)"
   ]
  },
  {
   "cell_type": "code",
   "execution_count": 29,
   "id": "1c68343d",
   "metadata": {},
   "outputs": [],
   "source": [
    "# 이제 모델을 훈련세트에 훈련하고 최상의 매개변수와 점수를 출력한다."
   ]
  },
  {
   "cell_type": "code",
   "execution_count": 30,
   "id": "6785ec47",
   "metadata": {},
   "outputs": [
    {
     "name": "stdout",
     "output_type": "stream",
     "text": [
      "최상의 매개변수: {'subsample': 0.65, 'n_estimators': 300, 'learning_rate': 0.05}\n",
      "훈련 점수: 636.799\n",
      "테스트 세트 점수: 625.985\n"
     ]
    }
   ],
   "source": [
    "rand_reg.fit(x_train, y_train)\n",
    "best_model = rand_reg.best_estimator_\n",
    "best_params = rand_reg.best_params_\n",
    "print(\"최상의 매개변수:\", best_params)\n",
    "best_score = np.sqrt(-rand_reg.best_score_)\n",
    "print(\"훈련 점수: {:.3f}\".format(best_score))\n",
    "y_pred = best_model.predict(x_test)\n",
    "rmse_test = MSE(y_test, y_pred)**0.5\n",
    "print('테스트 세트 점수: {:.3f}'.format(rmse_test))"
   ]
  },
  {
   "cell_type": "markdown",
   "id": "86f7adeb",
   "metadata": {},
   "source": [
    "- 이 매개변수에서 한 개씩 또는 여러 개의 매개변수를 바꿔서 실험해볼 수 있다. n_estimators = 300이 최상의 모델이지만 learning rate를 조정하고 n_estimators를 증가시켜 더 좋은 결과를 얻을 수 있다. subsample도 실험가능"
   ]
  },
  {
   "cell_type": "code",
   "execution_count": 31,
   "id": "63b17db8",
   "metadata": {},
   "outputs": [
    {
     "data": {
      "text/plain": [
       "597.7852637855387"
      ]
     },
     "execution_count": 31,
     "metadata": {},
     "output_type": "execute_result"
    }
   ],
   "source": [
    "# 5. 몇 번의 실험을 반복한 후에 다음 모델을 얻었다.\n",
    "# 더 좋아질 수도 있다. 도전해보자.\n",
    "gbr = GradientBoostingRegressor(max_depth = 3, n_estimators = 1600, subsample = 0.75, learning_rate =0.02,\n",
    "                               random_state = 2)\n",
    "gbr.fit(x_train, y_train)\n",
    "y_pred = gbr.predict(x_test)\n",
    "MSE(y_test, y_pred)**0.5"
   ]
  },
  {
   "cell_type": "markdown",
   "id": "248f9d73",
   "metadata": {},
   "source": [
    "## 4.3.5 XGBoost\n",
    "- XGBoost는 일반적인 구조는 동일한 그레이디언트 부스팅의 고급 버전이다.\n",
    "- 즉 잔차로부터 훈련한 트리를 추가하여 약한 학습기를 강력한 학습기로 바꾼다.\n",
    "- 이전 절에서 소개한 매개변수와 다른 것은 learning_rate으로 XGBoost에서는 eta이다.\n",
    "- 동일한 매개변수로 XGBoost 회귀 모델을 만들어보고 결과를 비교해보겠다.\n",
    "- 다음처럼 XGBoost 패키지에서 XGBRegressor를 임포트하고, 모델을 초기화하고 훈련한 다음 점수를 계산한다."
   ]
  },
  {
   "cell_type": "code",
   "execution_count": 32,
   "id": "a6adfe4d",
   "metadata": {},
   "outputs": [
    {
     "data": {
      "text/plain": [
       "584.3395337495713"
      ]
     },
     "execution_count": 32,
     "metadata": {},
     "output_type": "execute_result"
    }
   ],
   "source": [
    "from xgboost import XGBRegressor\n",
    "xg_reg = XGBRegressor(max_depth = 3, n_estimators = 1600, eta = 0.02, subsample = 0.75, random_state =2)\n",
    "xg_reg.fit(x_train, y_train)\n",
    "y_pred = xg_reg.predict(x_test)\n",
    "MSE(y_test, y_pred)**0.5\n",
    "\n",
    "# 성능도 좋고 빠르네.."
   ]
  },
  {
   "cell_type": "markdown",
   "id": "203d6d88",
   "metadata": {},
   "source": [
    "# 4.4 빅 데이터 다루기 - 그레이디언트 부스팅 vs XGBoost\n",
    "- 현실 세계의 데이터셋은 거대하며 소조 개의 데이터 포인트로 이루어질 수 있다.\n",
    "- 컴퓨터 한 대의 자원은 제약되어 있기 때문에 한 대의 컴퓨터로만 작업하는 것은 단점이 될 수 있다.\n",
    "- 빅 데이터를 다룰 때 종종 병렬 컴퓨팅을 활용하기 때문에 클라우드를 사용한다.\n",
    "- 대용량 데이터셋은 계산의 한계를 넘어설 때가 있다.\n",
    "- 이 책에서 지금까지 사용한 데이터셋은 수만 개의 행과 수 백개 이하의 열로 이루어져 있다.\n",
    "- 실행 시간이 오래 걸리지 않아 (대부분) 오류가 발생하지 않는다.\n",
    "\n",
    "---\n",
    "- 이 절에서는 외계 행서 데이터셋을 살펴보겠다.\n",
    "- 이 데이터셋은 5,087개의 행과 3,189개의 열로 이루어져있다.\n",
    "- 별의 생명 주기 동안에 빛의 밝기를 기록한 것이다.\n",
    "- 행과 열의 개수를 곱하면 1500만 포이트가 된다.\n",
    "- 100개의 트리를 사용한다면 모델을 구축하기 위해 15억개 데이터 포인터를 처리해야 한다.\n",
    "- 이절의 코드를 실행하는데 2013년형 맥북 에어로 약 5분이 걸렸다."
   ]
  },
  {
   "cell_type": "markdown",
   "id": "a2d5728e",
   "metadata": {},
   "source": [
    "## 4.4.1 외계 행성 데이터셋 소개\n",
    "- 외계 행성 데이터셋은 2017년 캐글에 소개된 데이터셋이다.\n",
    "- 이 데이터셋에는 별의 밝기에 대한 정보가 포함되어 있다.\n",
    "- 각 행은 하나의 별에 대한 정보를 나타내며 각 열은 시간에 따라 밝기의 변화를 저장하고 있다.\n",
    "- 밝기 외에도 LABEL 열에는 별이 외계 행성을 가지고 있으며 2 아니면 1로 레이블되어 있다.\n",
    "- 이 데이터셋은 수천 개의 별의 밝기를 담고 있따. 별의 밝기는 종종 광속이라고도 부르며 감지된 별의 밝기이다.\n",
    "\n",
    "> 감지된 밝기는 실제 밝기와 다르다. 예를 들어 멀리 떨어진 매우 밝은 별의 광속은 작을 수 있다.(흐리게 보인다.)\n",
    "이에 반해 매우 가까운 거리에 있는 중간 밝기의 별이 높은 광속을 가질수 있다.(밝게 보인다.)\n",
    "\n",
    "- 별의 밝기가 주기적으로 달라질 때 외계 행성이 이 별을 공전하고 읽을 가능성이 있다.\n",
    "- 외계 행성이 별의 앞을 지나갈 때 빛의 일부분을 가리고 이로 인해 별의 밝기가 약간 감소된다고 가정한 것이다.\n",
    "\n",
    "> 외계 행성을 찾는 일은 드뭅니다. 별이 외계 행성을 가지고 있는지 아닌지 나타내는 LABEL 열을 보면 외계행성이 있는 경우가 많지 않다. 따라서 이 데이터셋은 불균형하다. 7장에서 이 데이터셋을 더 자세하게 살펴보면서 불균형한 데이터셋에 대해 다루겠다."
   ]
  },
  {
   "cell_type": "markdown",
   "id": "1ed4429a",
   "metadata": {},
   "source": [
    "## 4.42 외계 행성 데이터셋 전처리\n"
   ]
  },
  {
   "cell_type": "code",
   "execution_count": 33,
   "id": "c00fcafb",
   "metadata": {},
   "outputs": [
    {
     "data": {
      "text/html": [
       "<div>\n",
       "<style scoped>\n",
       "    .dataframe tbody tr th:only-of-type {\n",
       "        vertical-align: middle;\n",
       "    }\n",
       "\n",
       "    .dataframe tbody tr th {\n",
       "        vertical-align: top;\n",
       "    }\n",
       "\n",
       "    .dataframe thead th {\n",
       "        text-align: right;\n",
       "    }\n",
       "</style>\n",
       "<table border=\"1\" class=\"dataframe\">\n",
       "  <thead>\n",
       "    <tr style=\"text-align: right;\">\n",
       "      <th></th>\n",
       "      <th>LABEL</th>\n",
       "      <th>FLUX.1</th>\n",
       "      <th>FLUX.2</th>\n",
       "      <th>FLUX.3</th>\n",
       "      <th>FLUX.4</th>\n",
       "      <th>FLUX.5</th>\n",
       "      <th>FLUX.6</th>\n",
       "      <th>FLUX.7</th>\n",
       "      <th>FLUX.8</th>\n",
       "      <th>FLUX.9</th>\n",
       "      <th>...</th>\n",
       "      <th>FLUX.3188</th>\n",
       "      <th>FLUX.3189</th>\n",
       "      <th>FLUX.3190</th>\n",
       "      <th>FLUX.3191</th>\n",
       "      <th>FLUX.3192</th>\n",
       "      <th>FLUX.3193</th>\n",
       "      <th>FLUX.3194</th>\n",
       "      <th>FLUX.3195</th>\n",
       "      <th>FLUX.3196</th>\n",
       "      <th>FLUX.3197</th>\n",
       "    </tr>\n",
       "  </thead>\n",
       "  <tbody>\n",
       "    <tr>\n",
       "      <th>0</th>\n",
       "      <td>2</td>\n",
       "      <td>93.85</td>\n",
       "      <td>83.81</td>\n",
       "      <td>20.10</td>\n",
       "      <td>-26.98</td>\n",
       "      <td>-39.56</td>\n",
       "      <td>-124.71</td>\n",
       "      <td>-135.18</td>\n",
       "      <td>-96.27</td>\n",
       "      <td>-79.89</td>\n",
       "      <td>...</td>\n",
       "      <td>-78.07</td>\n",
       "      <td>-102.15</td>\n",
       "      <td>-102.15</td>\n",
       "      <td>25.13</td>\n",
       "      <td>48.57</td>\n",
       "      <td>92.54</td>\n",
       "      <td>39.32</td>\n",
       "      <td>61.42</td>\n",
       "      <td>5.08</td>\n",
       "      <td>-39.54</td>\n",
       "    </tr>\n",
       "    <tr>\n",
       "      <th>1</th>\n",
       "      <td>2</td>\n",
       "      <td>-38.88</td>\n",
       "      <td>-33.83</td>\n",
       "      <td>-58.54</td>\n",
       "      <td>-40.09</td>\n",
       "      <td>-79.31</td>\n",
       "      <td>-72.81</td>\n",
       "      <td>-86.55</td>\n",
       "      <td>-85.33</td>\n",
       "      <td>-83.97</td>\n",
       "      <td>...</td>\n",
       "      <td>-3.28</td>\n",
       "      <td>-32.21</td>\n",
       "      <td>-32.21</td>\n",
       "      <td>-24.89</td>\n",
       "      <td>-4.86</td>\n",
       "      <td>0.76</td>\n",
       "      <td>-11.70</td>\n",
       "      <td>6.46</td>\n",
       "      <td>16.00</td>\n",
       "      <td>19.93</td>\n",
       "    </tr>\n",
       "    <tr>\n",
       "      <th>2</th>\n",
       "      <td>2</td>\n",
       "      <td>532.64</td>\n",
       "      <td>535.92</td>\n",
       "      <td>513.73</td>\n",
       "      <td>496.92</td>\n",
       "      <td>456.45</td>\n",
       "      <td>466.00</td>\n",
       "      <td>464.50</td>\n",
       "      <td>486.39</td>\n",
       "      <td>436.56</td>\n",
       "      <td>...</td>\n",
       "      <td>-71.69</td>\n",
       "      <td>13.31</td>\n",
       "      <td>13.31</td>\n",
       "      <td>-29.89</td>\n",
       "      <td>-20.88</td>\n",
       "      <td>5.06</td>\n",
       "      <td>-11.80</td>\n",
       "      <td>-28.91</td>\n",
       "      <td>-70.02</td>\n",
       "      <td>-96.67</td>\n",
       "    </tr>\n",
       "    <tr>\n",
       "      <th>3</th>\n",
       "      <td>2</td>\n",
       "      <td>326.52</td>\n",
       "      <td>347.39</td>\n",
       "      <td>302.35</td>\n",
       "      <td>298.13</td>\n",
       "      <td>317.74</td>\n",
       "      <td>312.70</td>\n",
       "      <td>322.33</td>\n",
       "      <td>311.31</td>\n",
       "      <td>312.42</td>\n",
       "      <td>...</td>\n",
       "      <td>5.71</td>\n",
       "      <td>-3.73</td>\n",
       "      <td>-3.73</td>\n",
       "      <td>30.05</td>\n",
       "      <td>20.03</td>\n",
       "      <td>-12.67</td>\n",
       "      <td>-8.77</td>\n",
       "      <td>-17.31</td>\n",
       "      <td>-17.35</td>\n",
       "      <td>13.98</td>\n",
       "    </tr>\n",
       "    <tr>\n",
       "      <th>4</th>\n",
       "      <td>2</td>\n",
       "      <td>-1107.21</td>\n",
       "      <td>-1112.59</td>\n",
       "      <td>-1118.95</td>\n",
       "      <td>-1095.10</td>\n",
       "      <td>-1057.55</td>\n",
       "      <td>-1034.48</td>\n",
       "      <td>-998.34</td>\n",
       "      <td>-1022.71</td>\n",
       "      <td>-989.57</td>\n",
       "      <td>...</td>\n",
       "      <td>-594.37</td>\n",
       "      <td>-401.66</td>\n",
       "      <td>-401.66</td>\n",
       "      <td>-357.24</td>\n",
       "      <td>-443.76</td>\n",
       "      <td>-438.54</td>\n",
       "      <td>-399.71</td>\n",
       "      <td>-384.65</td>\n",
       "      <td>-411.79</td>\n",
       "      <td>-510.54</td>\n",
       "    </tr>\n",
       "  </tbody>\n",
       "</table>\n",
       "<p>5 rows × 3198 columns</p>\n",
       "</div>"
      ],
      "text/plain": [
       "   LABEL   FLUX.1   FLUX.2   FLUX.3   FLUX.4   FLUX.5   FLUX.6  FLUX.7  \\\n",
       "0      2    93.85    83.81    20.10   -26.98   -39.56  -124.71 -135.18   \n",
       "1      2   -38.88   -33.83   -58.54   -40.09   -79.31   -72.81  -86.55   \n",
       "2      2   532.64   535.92   513.73   496.92   456.45   466.00  464.50   \n",
       "3      2   326.52   347.39   302.35   298.13   317.74   312.70  322.33   \n",
       "4      2 -1107.21 -1112.59 -1118.95 -1095.10 -1057.55 -1034.48 -998.34   \n",
       "\n",
       "    FLUX.8  FLUX.9  ...  FLUX.3188  FLUX.3189  FLUX.3190  FLUX.3191  \\\n",
       "0   -96.27  -79.89  ...     -78.07    -102.15    -102.15      25.13   \n",
       "1   -85.33  -83.97  ...      -3.28     -32.21     -32.21     -24.89   \n",
       "2   486.39  436.56  ...     -71.69      13.31      13.31     -29.89   \n",
       "3   311.31  312.42  ...       5.71      -3.73      -3.73      30.05   \n",
       "4 -1022.71 -989.57  ...    -594.37    -401.66    -401.66    -357.24   \n",
       "\n",
       "   FLUX.3192  FLUX.3193  FLUX.3194  FLUX.3195  FLUX.3196  FLUX.3197  \n",
       "0      48.57      92.54      39.32      61.42       5.08     -39.54  \n",
       "1      -4.86       0.76     -11.70       6.46      16.00      19.93  \n",
       "2     -20.88       5.06     -11.80     -28.91     -70.02     -96.67  \n",
       "3      20.03     -12.67      -8.77     -17.31     -17.35      13.98  \n",
       "4    -443.76    -438.54    -399.71    -384.65    -411.79    -510.54  \n",
       "\n",
       "[5 rows x 3198 columns]"
      ]
     },
     "execution_count": 33,
     "metadata": {},
     "output_type": "execute_result"
    }
   ],
   "source": [
    "df = pd.read_csv('exoplanets.csv')\n",
    "df.head()"
   ]
  },
  {
   "cell_type": "code",
   "execution_count": 34,
   "id": "51722c74",
   "metadata": {},
   "outputs": [
    {
     "name": "stdout",
     "output_type": "stream",
     "text": [
      "<class 'pandas.core.frame.DataFrame'>\n",
      "RangeIndex: 5087 entries, 0 to 5086\n",
      "Columns: 3198 entries, LABEL to FLUX.3197\n",
      "dtypes: float64(3197), int64(1)\n",
      "memory usage: 124.1 MB\n"
     ]
    }
   ],
   "source": [
    "df.info()"
   ]
  },
  {
   "cell_type": "code",
   "execution_count": 35,
   "id": "dca4e09d",
   "metadata": {},
   "outputs": [
    {
     "data": {
      "text/plain": [
       "0"
      ]
     },
     "execution_count": 35,
     "metadata": {},
     "output_type": "execute_result"
    }
   ],
   "source": [
    "df.isna().sum().sum()"
   ]
  },
  {
   "cell_type": "code",
   "execution_count": 36,
   "id": "8d871f19",
   "metadata": {},
   "outputs": [],
   "source": [
    "# 데이터를 X와 y로 나눕니다.\n",
    "X = df.iloc[:,1:]\n",
    "y = df.iloc[:,0] \n",
    "\n",
    "# 훈련 세트와 테스트 세트로 나눕니다.\n",
    "X_train, X_test, y_train, y_test = train_test_split(X, y, random_state=2)"
   ]
  },
  {
   "cell_type": "markdown",
   "id": "98311ef0",
   "metadata": {},
   "source": [
    "# 4.43 그레이디언트 부스팅 분류 모델 만들기\n",
    "- 그레이디언트 부스팅 분류 모델은 그레이디언트 회귀 모델과 같은 방식으로 동작한다. 측정 지표가 주요한 차이점이다.\n",
    "- GradientBoostingClassifier와 XGBClassifier, accuracy_score를 임포트하여 두 모델을 비교 "
   ]
  },
  {
   "cell_type": "code",
   "execution_count": 37,
   "id": "0e17c726",
   "metadata": {},
   "outputs": [],
   "source": [
    "from sklearn.ensemble import GradientBoostingClassifier\n",
    "# XGBRegressor를 임포트합니다.\n",
    "from xgboost import XGBClassifier\n",
    "\n",
    "# accuracy_score를 임포트합니다.\n",
    "from sklearn.metrics import accuracy_score"
   ]
  },
  {
   "cell_type": "markdown",
   "id": "0a9e33c6",
   "metadata": {},
   "source": [
    "# 4.4.4 시간 측정\n",
    "- 파이썬은 시간을 측정하는 데 사용할 수 있는 time패키지를 제공한다.\n",
    "- 모델을 훈련하고 평가하기 전후의 시간을 기록하는 것이 일반적인 방법이다.\n",
    "- 두 시간의 차이가 모델을 훈련하고 평가하는 데 걸리는 시간이다.\n",
    "\n",
    "다음처럼 time 패키지를 임포트한다. "
   ]
  },
  {
   "cell_type": "code",
   "execution_count": 38,
   "id": "8c357597",
   "metadata": {},
   "outputs": [
    {
     "name": "stdout",
     "output_type": "stream",
     "text": [
      "<class 'pandas.core.frame.DataFrame'>\n",
      "RangeIndex: 5087 entries, 0 to 5086\n",
      "Columns: 3198 entries, LABEL to FLUX.3197\n",
      "dtypes: float64(3197), int64(1)\n",
      "memory usage: 124.1 MB\n",
      "\n",
      "실행 시간: 0.010210990905761719 초\n"
     ]
    }
   ],
   "source": [
    "import time\n",
    "start = time.time()\n",
    "\n",
    "df.info()\n",
    "\n",
    "end = time.time()\n",
    "elapsed = end - start\n",
    "\n",
    "print('\\n실행 시간: ' + str(elapsed) + ' 초')"
   ]
  },
  {
   "cell_type": "code",
   "execution_count": 39,
   "id": "3e86d33c",
   "metadata": {},
   "outputs": [
    {
     "name": "stdout",
     "output_type": "stream",
     "text": [
      "780 µs ± 6.66 µs per loop (mean ± std. dev. of 3 runs, 100 loops each)\n"
     ]
    }
   ],
   "source": [
    "%timeit -n 100 -r 3 sum(np.square(range(10000)))"
   ]
  },
  {
   "cell_type": "code",
   "execution_count": 40,
   "id": "27742144",
   "metadata": {},
   "outputs": [
    {
     "name": "stdout",
     "output_type": "stream",
     "text": [
      "2.03 ms ± 20 µs per loop (mean ± std. dev. of 3 runs, 100 loops each)\n"
     ]
    }
   ],
   "source": [
    "%%timeit -n 100 -r 3 \n",
    "summing = 0\n",
    "for i in range(10000):\n",
    "    summing += i**2"
   ]
  },
  {
   "cell_type": "markdown",
   "id": "4267ad13",
   "metadata": {},
   "source": [
    "## 4.4.5 속도 비교\n",
    "- 이제 외계 행성 데이터셋을 사용해 GradientBoostingClassifier와 XGBoostClassifier의 속도를 비교\n",
    "- 모델의 크기를 제한하기 위해 max_depth =2와 n_estimators = 100으로 설정하겠다.\n",
    "- GradientBoostingClassifier부터 시작해보자."
   ]
  },
  {
   "cell_type": "code",
   "execution_count": 41,
   "id": "e10c14a2",
   "metadata": {},
   "outputs": [
    {
     "name": "stdout",
     "output_type": "stream",
     "text": [
      "점수: 0.9874213836477987\n",
      "실행 시간: 181.03421807289124 초\n"
     ]
    }
   ],
   "source": [
    "start = time.time()\n",
    "\n",
    "gbr = GradientBoostingClassifier(n_estimators=100, \n",
    "                                 max_depth=2, random_state=2)\n",
    "gbr.fit(X_train, y_train)\n",
    "y_pred = gbr.predict(X_test)\n",
    "score = accuracy_score(y_pred, y_test)\n",
    "print('점수: ' + str(score))\n",
    "\n",
    "end = time.time()\n",
    "elapsed = end - start\n",
    "\n",
    "print('실행 시간: ' + str(elapsed) + ' 초')"
   ]
  },
  {
   "cell_type": "code",
   "execution_count": 42,
   "id": "4adcf416",
   "metadata": {},
   "outputs": [
    {
     "ename": "ValueError",
     "evalue": "Invalid classes inferred from unique values of `y`.  Expected: [0 1], got [1 2]",
     "output_type": "error",
     "traceback": [
      "\u001b[0;31m---------------------------------------------------------------------------\u001b[0m",
      "\u001b[0;31mValueError\u001b[0m                                Traceback (most recent call last)",
      "Cell \u001b[0;32mIn[42], line 7\u001b[0m\n\u001b[1;32m      4\u001b[0m xg_reg \u001b[38;5;241m=\u001b[39m XGBClassifier(n_estimators\u001b[38;5;241m=\u001b[39m\u001b[38;5;241m100\u001b[39m, max_depth\u001b[38;5;241m=\u001b[39m\u001b[38;5;241m2\u001b[39m)\n\u001b[1;32m      6\u001b[0m \u001b[38;5;66;03m# 훈련 세트에서 xg_reg를 훈련합니다.\u001b[39;00m\n\u001b[0;32m----> 7\u001b[0m \u001b[43mxg_reg\u001b[49m\u001b[38;5;241;43m.\u001b[39;49m\u001b[43mfit\u001b[49m\u001b[43m(\u001b[49m\u001b[43mX_train\u001b[49m\u001b[43m,\u001b[49m\u001b[43m \u001b[49m\u001b[43my_train\u001b[49m\u001b[43m)\u001b[49m\n\u001b[1;32m      9\u001b[0m \u001b[38;5;66;03m# 테스트 세트에 대한 예측을 만듭니다.\u001b[39;00m\n\u001b[1;32m     10\u001b[0m y_pred \u001b[38;5;241m=\u001b[39m xg_reg\u001b[38;5;241m.\u001b[39mpredict(X_test)\n",
      "File \u001b[0;32m~/anaconda3/lib/python3.10/site-packages/xgboost/core.py:620\u001b[0m, in \u001b[0;36mrequire_keyword_args.<locals>.throw_if.<locals>.inner_f\u001b[0;34m(*args, **kwargs)\u001b[0m\n\u001b[1;32m    618\u001b[0m \u001b[38;5;28;01mfor\u001b[39;00m k, arg \u001b[38;5;129;01min\u001b[39;00m \u001b[38;5;28mzip\u001b[39m(sig\u001b[38;5;241m.\u001b[39mparameters, args):\n\u001b[1;32m    619\u001b[0m     kwargs[k] \u001b[38;5;241m=\u001b[39m arg\n\u001b[0;32m--> 620\u001b[0m \u001b[38;5;28;01mreturn\u001b[39;00m \u001b[43mfunc\u001b[49m\u001b[43m(\u001b[49m\u001b[38;5;241;43m*\u001b[39;49m\u001b[38;5;241;43m*\u001b[39;49m\u001b[43mkwargs\u001b[49m\u001b[43m)\u001b[49m\n",
      "File \u001b[0;32m~/anaconda3/lib/python3.10/site-packages/xgboost/sklearn.py:1440\u001b[0m, in \u001b[0;36mXGBClassifier.fit\u001b[0;34m(self, X, y, sample_weight, base_margin, eval_set, eval_metric, early_stopping_rounds, verbose, xgb_model, sample_weight_eval_set, base_margin_eval_set, feature_weights, callbacks)\u001b[0m\n\u001b[1;32m   1435\u001b[0m     expected_classes \u001b[38;5;241m=\u001b[39m np\u001b[38;5;241m.\u001b[39marange(\u001b[38;5;28mself\u001b[39m\u001b[38;5;241m.\u001b[39mn_classes_)\n\u001b[1;32m   1436\u001b[0m \u001b[38;5;28;01mif\u001b[39;00m (\n\u001b[1;32m   1437\u001b[0m     \u001b[38;5;28mself\u001b[39m\u001b[38;5;241m.\u001b[39mclasses_\u001b[38;5;241m.\u001b[39mshape \u001b[38;5;241m!=\u001b[39m expected_classes\u001b[38;5;241m.\u001b[39mshape\n\u001b[1;32m   1438\u001b[0m     \u001b[38;5;129;01mor\u001b[39;00m \u001b[38;5;129;01mnot\u001b[39;00m (\u001b[38;5;28mself\u001b[39m\u001b[38;5;241m.\u001b[39mclasses_ \u001b[38;5;241m==\u001b[39m expected_classes)\u001b[38;5;241m.\u001b[39mall()\n\u001b[1;32m   1439\u001b[0m ):\n\u001b[0;32m-> 1440\u001b[0m     \u001b[38;5;28;01mraise\u001b[39;00m \u001b[38;5;167;01mValueError\u001b[39;00m(\n\u001b[1;32m   1441\u001b[0m         \u001b[38;5;124mf\u001b[39m\u001b[38;5;124m\"\u001b[39m\u001b[38;5;124mInvalid classes inferred from unique values of `y`.  \u001b[39m\u001b[38;5;124m\"\u001b[39m\n\u001b[1;32m   1442\u001b[0m         \u001b[38;5;124mf\u001b[39m\u001b[38;5;124m\"\u001b[39m\u001b[38;5;124mExpected: \u001b[39m\u001b[38;5;132;01m{\u001b[39;00mexpected_classes\u001b[38;5;132;01m}\u001b[39;00m\u001b[38;5;124m, got \u001b[39m\u001b[38;5;132;01m{\u001b[39;00m\u001b[38;5;28mself\u001b[39m\u001b[38;5;241m.\u001b[39mclasses_\u001b[38;5;132;01m}\u001b[39;00m\u001b[38;5;124m\"\u001b[39m\n\u001b[1;32m   1443\u001b[0m     )\n\u001b[1;32m   1445\u001b[0m params \u001b[38;5;241m=\u001b[39m \u001b[38;5;28mself\u001b[39m\u001b[38;5;241m.\u001b[39mget_xgb_params()\n\u001b[1;32m   1447\u001b[0m \u001b[38;5;28;01mif\u001b[39;00m callable(\u001b[38;5;28mself\u001b[39m\u001b[38;5;241m.\u001b[39mobjective):\n",
      "\u001b[0;31mValueError\u001b[0m: Invalid classes inferred from unique values of `y`.  Expected: [0 1], got [1 2]"
     ]
    }
   ],
   "source": [
    "start = time.time()\n",
    "\n",
    "# XGBRegressor를 초기화합니다.\n",
    "xg_reg = XGBClassifier(n_estimators=100, max_depth=2)\n",
    "\n",
    "# 훈련 세트에서 xg_reg를 훈련합니다.\n",
    "xg_reg.fit(X_train, y_train)\n",
    "\n",
    "# 테스트 세트에 대한 예측을 만듭니다.\n",
    "y_pred = xg_reg.predict(X_test)\n",
    "\n",
    "score = accuracy_score(y_pred, y_test)\n",
    "\n",
    "print('점수: ' + str(score))\n",
    "\n",
    "end = time.time()\n",
    "elapsed = end - start\n",
    "\n",
    "print('실행 시간: ' + str(elapsed) + ' 초')"
   ]
  },
  {
   "cell_type": "markdown",
   "id": "eed6e364",
   "metadata": {},
   "source": [
    "## 마치며 \n",
    "\n",
    "이 장에서 배깅과 부스팅의 차이에 대해 배웠다. 직접 그레이디언트 부스팅 회귀 모델을 만들면서 작동 방식을 배웠다.\n",
    "learning_rate, n_estimators, max_depth와 확륙적 그레이디언트 부스팅을 만드는 usbsample 매개변수 등 다양한 그레이디언트 부스팅 매개변수로 모델을 만들었다. 마지막으로 외계 행성을 가진 별인지 예측하기 위한 대용량 데이터셋으로 GraidientBoostingClassifier와 XGBoostClassifier를 비교해보았다. \n",
    "XGBoostClassifier가 2배에서 10배까지 빠르고 더 정확하다.\n",
    "\n",
    "이런 기술을 배움으로써 그레이디언트 부스팅 같이 비슷한 머신러닝 알고리즘 대신 XGBoost를 적용해야 할 시기를 이해할 수 있다. 이제 n_esxtimators와 learning_rate와 같은 핵심 매개변수를 적절히 활용하여 강력한 XGBoost 모델과 그레이디언트 부스팅 모델을 만들 수 있다. 또한 직관에 의존하는 대신 계산 시간을 측정할 수 있는 방법을 배웟다.\n",
    "\n",
    "지금까지는 XGBoost의 거시적 측면에서 머신러닝과 데이터 분섹에 대해 소개하는 것이 목적이었다.\n",
    "앙상블 모델, 부스팅, 그레이디언트 부스팅, 빅데이터로부터 xGBoost의 필요성이 어떻게 탄생했는지 보여주었다."
   ]
  },
  {
   "cell_type": "code",
   "execution_count": null,
   "id": "7227fdf9",
   "metadata": {},
   "outputs": [],
   "source": []
  },
  {
   "cell_type": "code",
   "execution_count": null,
   "id": "f37a22bb",
   "metadata": {},
   "outputs": [],
   "source": []
  },
  {
   "cell_type": "code",
   "execution_count": null,
   "id": "5f166fd1",
   "metadata": {},
   "outputs": [],
   "source": []
  },
  {
   "cell_type": "code",
   "execution_count": null,
   "id": "d8ceeec8",
   "metadata": {},
   "outputs": [],
   "source": []
  },
  {
   "cell_type": "code",
   "execution_count": null,
   "id": "e3ab3db9",
   "metadata": {},
   "outputs": [],
   "source": []
  },
  {
   "cell_type": "code",
   "execution_count": null,
   "id": "916d3c6d",
   "metadata": {},
   "outputs": [],
   "source": []
  },
  {
   "cell_type": "code",
   "execution_count": null,
   "id": "538f33d5",
   "metadata": {},
   "outputs": [],
   "source": []
  },
  {
   "cell_type": "code",
   "execution_count": null,
   "id": "a7c6fd45",
   "metadata": {},
   "outputs": [],
   "source": []
  }
 ],
 "metadata": {
  "kernelspec": {
   "display_name": "Python 3 (ipykernel)",
   "language": "python",
   "name": "python3"
  },
  "language_info": {
   "codemirror_mode": {
    "name": "ipython",
    "version": 3
   },
   "file_extension": ".py",
   "mimetype": "text/x-python",
   "name": "python",
   "nbconvert_exporter": "python",
   "pygments_lexer": "ipython3",
   "version": "3.10.9"
  }
 },
 "nbformat": 4,
 "nbformat_minor": 5
}
